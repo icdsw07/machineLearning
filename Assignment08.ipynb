{
 "cells": [
  {
   "cell_type": "markdown",
   "metadata": {},
   "source": [
    "## 20133807 Jeong Seong Woon"
   ]
  },
  {
   "cell_type": "markdown",
   "metadata": {},
   "source": [
    "### Import modules"
   ]
  },
  {
   "cell_type": "code",
   "execution_count": 1,
   "metadata": {},
   "outputs": [],
   "source": [
    "import torch\n",
    "import numpy as np\n",
    "import torch.nn as nn\n",
    "import torch.nn.functional as F\n",
    "from torch.utils.data import Dataset, DataLoader\n",
    "import torchvision\n",
    "import torchvision.transforms as transforms\n",
    "from torch.autograd import Variable\n",
    "import matplotlib.pyplot as plt"
   ]
  },
  {
   "cell_type": "markdown",
   "metadata": {},
   "source": [
    "### Construct autoencoder network based on CNN"
   ]
  },
  {
   "cell_type": "code",
   "execution_count": 2,
   "metadata": {},
   "outputs": [],
   "source": [
    "class autoencoder(nn.Module):\n",
    "    def __init__(self):\n",
    "        super(autoencoder, self).__init__()\n",
    "        self.encoder = nn.Sequential(\n",
    "            nn.Conv2d(1, 16, 3, stride =1, padding = 1),\n",
    "            nn.ReLU(True),\n",
    "            nn.MaxPool2d(3, stride =1),\n",
    "            nn.Conv2d(16, 32, 2, stride = 1, padding = 1),\n",
    "            nn.MaxPool2d(2, stride =1),\n",
    "            nn.ReLU(True)\n",
    "        )\n",
    "        \n",
    "        self.decoder = nn.Sequential(\n",
    "            nn.ConvTranspose2d(32, 16, 2, stride =1),\n",
    "            nn.ReLU(True),\n",
    "            nn.ConvTranspose2d(16, 1, 2, stride =1),\n",
    "            nn.ReLU(True)\n",
    "        )\n",
    "        \n",
    "    def forward(self, x):\n",
    "#         print(\"before\", x.shape)\n",
    "        x = self.encoder(x)\n",
    "        #print(\"after encoder\", x.shape)\n",
    "        x = self.decoder(x)\n",
    "        #print(\"after decoder\", x.shape)\n",
    "        return x"
   ]
  },
  {
   "cell_type": "code",
   "execution_count": 3,
   "metadata": {},
   "outputs": [],
   "source": [
    "batch_size = 50\n",
    "learning_rate = 5e-4"
   ]
  },
  {
   "cell_type": "markdown",
   "metadata": {},
   "source": [
    "### Implement function for adjusting learning rate"
   ]
  },
  {
   "cell_type": "code",
   "execution_count": 4,
   "metadata": {},
   "outputs": [],
   "source": [
    "def adjust_lr(optimizer, epoch):\n",
    "    lr = learning_rate * (0.5 ** (epoch // 10))\n",
    "    for param_group in optimizer.param_groups:\n",
    "        param_group['lr'] = lr"
   ]
  },
  {
   "cell_type": "markdown",
   "metadata": {},
   "source": [
    "### Custom DataLoader and make model, objective, optimizer"
   ]
  },
  {
   "cell_type": "markdown",
   "metadata": {},
   "source": [
    "#### 1. Add noise to training data by Normal Distributed Random number"
   ]
  },
  {
   "cell_type": "markdown",
   "metadata": {},
   "source": [
    "#### 2. Execute training"
   ]
  },
  {
   "cell_type": "code",
   "execution_count": 5,
   "metadata": {
    "scrolled": false
   },
   "outputs": [
    {
     "name": "stdout",
     "output_type": "stream",
     "text": [
      "epoch [1], loss:(training)0.00429\n",
      "epoch [2], loss:(training)0.00151\n",
      "epoch [3], loss:(training)0.00119\n",
      "epoch [4], loss:(training)0.00103\n",
      "epoch [5], loss:(training)0.00096\n",
      "epoch [6], loss:(training)0.00090\n",
      "epoch [7], loss:(training)0.00086\n",
      "epoch [8], loss:(training)0.00083\n",
      "epoch [9], loss:(training)0.00081\n",
      "epoch [10], loss:(training)0.00079\n",
      "epoch [11], loss:(training)0.00078\n",
      "epoch [12], loss:(training)0.00076\n",
      "epoch [13], loss:(training)0.00075\n",
      "epoch [14], loss:(training)0.00074\n",
      "epoch [15], loss:(training)0.00073\n"
     ]
    }
   ],
   "source": [
    "model = autoencoder().cuda()\n",
    "objective = nn.MSELoss()\n",
    "optimizer = torch.optim.Adam(model.parameters(), lr=learning_rate,\n",
    "                             weight_decay=1e-4)\n",
    "\n",
    "# custom dataloader for .npy file\n",
    "class numpyDataset(Dataset):\n",
    "    def __init__(self, data, transform=None):\n",
    "        self.data = torch.from_numpy(data).float()\n",
    "        self.targets = torch.from_numpy(data).float()\n",
    "        self.transform = transform\n",
    "        self.noise = torch.empty(len(self.data), 1, 120, 80).normal_(mean= 0, std=0.025)\n",
    "        \n",
    "    def __getitem__(self, index):\n",
    "        x = self.data[index]\n",
    "        y = self.targets[index]\n",
    "        if self.transform:\n",
    "            x = self.transform(x)\n",
    "            y = self.transform(y)\n",
    "        x = x+self.noise[index]\n",
    "        \n",
    "        return x, y\n",
    "\n",
    "    \n",
    "    def __len__(self):\n",
    "        return len(self.data)\n",
    "\n",
    "loss_train_mean_list = []\n",
    "loss_train_std_list = []\n",
    "\n",
    "if __name__ == '__main__':\n",
    "\n",
    "    NUM_EPOCH       = 100\n",
    "    \n",
    "    transform       = transforms.Compose([\n",
    "                                    transforms.ToPILImage(),\n",
    "                                    transforms.Grayscale(num_output_channels=1),\n",
    "                                    transforms.ToTensor(),\n",
    "                                ])\n",
    "\n",
    "    # for training\n",
    "    traindata       = np.load('train.npy')\n",
    "    traindataset    = numpyDataset(traindata, transform)    \n",
    "    trainloader     = DataLoader(traindataset, batch_size=batch_size, shuffle=False, num_workers=0)\n",
    "    loss_train_mean_old = 0\n",
    "    for epoch in range(NUM_EPOCH):\n",
    "        loss_train_list =[]\n",
    "        for batch_idx, (data,target) in enumerate(trainloader):\n",
    "#             adjust_lr(optimizer, epoch)\n",
    "            image   = data\n",
    "            image = Variable(image).cuda()\n",
    "            target = Variable(target).cuda()\n",
    "            output = model(image)\n",
    "            loss = objective(output, target)\n",
    "            optimizer.zero_grad()\n",
    "            loss.backward()\n",
    "            optimizer.step()\n",
    "            loss_train_list.append(loss.item())\n",
    "        \n",
    "        loss_train_mean = np.mean(loss_train_list)\n",
    "        loss_train_mean_list.append(loss_train_mean)\n",
    "        loss_train_std = np.std(loss_train_list)\n",
    "        loss_train_std_list.append(loss_train_std)\n",
    "        if abs(loss_train_mean - loss_train_mean_old) < 1e-5:\n",
    "            break\n",
    "        loss_train_mean_old = loss_train_mean\n",
    "        print('epoch [{}], loss:(training){:.5f}'.format(epoch+1, loss_train_mean))"
   ]
  },
  {
   "cell_type": "markdown",
   "metadata": {},
   "source": [
    "### Export resulted test file through trained model"
   ]
  },
  {
   "cell_type": "code",
   "execution_count": 6,
   "metadata": {},
   "outputs": [],
   "source": [
    "#for testing\n",
    "testdata        = np.load('test.npy')\n",
    "testdataset     = numpyDataset(testdata, transform)\n",
    "testloader      = DataLoader(testdataset, batch_size=1, shuffle=False, num_workers=0)\n",
    "\n",
    "result_for_submit = None    # this is for submit file\n",
    "\n",
    "for batch_idx, data in enumerate(testloader):\n",
    "    image = Variable(data[1]).cuda()\n",
    "    temp = Variable(data[0]).cuda()\n",
    "    result_of_test = model(image)  \n",
    "    \n",
    "    if batch_idx == 0:\n",
    "        result_for_submit = result_of_test\n",
    "    else:\n",
    "        try:\n",
    "            result_for_submit = torch.cat([result_for_submit, result_of_test], dim=0)\n",
    "\n",
    "        except RuntimeError:\n",
    "            transposed = torch.transpose(result_of_test, 2, 3)\n",
    "            result_for_submit = torch.cat([result_for_submit, transposed], dim=0)\n",
    "\n",
    "# the submit_file.shape must be (400,1,120,80) \n",
    "submit_file = result_for_submit.detach().cpu().numpy()\n",
    "np.save('JeongSeongWoon.npy', submit_file)"
   ]
  },
  {
   "cell_type": "markdown",
   "metadata": {},
   "source": [
    "### Plot graph"
   ]
  },
  {
   "cell_type": "code",
   "execution_count": 7,
   "metadata": {},
   "outputs": [
    {
     "data": {
      "text/plain": [
       "<matplotlib.legend.Legend at 0x12a13800148>"
      ]
     },
     "execution_count": 7,
     "metadata": {},
     "output_type": "execute_result"
    },
    {
     "data": {
      "image/png": "[encoded data removed]",
      "text/plain": [
       "<Figure size 432x288 with 1 Axes>"
      ]
     },
     "metadata": {
      "needs_background": "light"
     },
     "output_type": "display_data"
    }
   ],
   "source": [
    "np_loss_train_mean = np.array(loss_train_mean_list)\n",
    "np_loss_train_std = np.array(loss_train_std_list)\n",
    "\n",
    "plt.figure(1)\n",
    "plt.plot(np_loss_train_mean,label='mean_loss_training',color= 'r')\n",
    "plt.fill_between(np.arange(len(np_loss_train_mean)),\\\n",
    "                 np_loss_train_mean-np_loss_train_std,\\\n",
    "                 np_loss_train_mean+np_loss_train_std,color='r',alpha=0.3)\n",
    "plt.legend()"
   ]
  }
 ],
 "metadata": {
  "kernelspec": {
   "display_name": "PyTorch",
   "language": "python",
   "name": "pytorch"
  },
  "language_info": {
   "codemirror_mode": {
    "name": "ipython",
    "version": 3
   },
   "file_extension": ".py",
   "mimetype": "text/x-python",
   "name": "python",
   "nbconvert_exporter": "python",
   "pygments_lexer": "ipython3",
   "version": "3.7.5"
  }
 },
 "nbformat": 4,
 "nbformat_minor": 2
}
