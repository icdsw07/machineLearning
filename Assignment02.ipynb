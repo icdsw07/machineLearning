{
 "cells": [
  {
   "cell_type": "markdown",
   "metadata": {},
   "source": [
    "# 20133807 Jeong Seong Woon"
   ]
  },
  {
   "cell_type": "code",
   "execution_count": 1,
   "metadata": {},
   "outputs": [],
   "source": [
    "import torch\n",
    "from torch.utils.data import Dataset, DataLoader\n",
    "import torchvision.transforms as transforms\n",
    "import torchvision\n",
    "import os\n",
    "import numpy as np\n",
    "import matplotlib.pyplot as plt"
   ]
  },
  {
   "cell_type": "code",
   "execution_count": 2,
   "metadata": {},
   "outputs": [],
   "source": [
    "transform = transforms.Compose([transforms.Grayscale(), transforms.ToTensor(),])"
   ]
  },
  {
   "cell_type": "code",
   "execution_count": 148,
   "metadata": {},
   "outputs": [],
   "source": [
    "train_data_path = './horse-or-human/train'\n",
    "trainset = torchvision.datasets.ImageFolder(root=train_data_path, transform=transform)\n",
    "trainloader = torch.utils.data.DataLoader(trainset, batch_size=10, shuffle=False, num_workers=1)\n",
    "validation_data_path = './horse-or-human/validation'\n",
    "valset = torchvision.datasets.ImageFolder(root=validation_data_path, transform=transform)\n",
    "valloader = torch.utils.data.DataLoader(valset, batch_size=10, shuffle=False, num_workers=1)"
   ]
  },
  {
   "cell_type": "code",
   "execution_count": 146,
   "metadata": {},
   "outputs": [
    {
     "name": "stdout",
     "output_type": "stream",
     "text": [
      "(10001, 256)\n"
     ]
    }
   ],
   "source": [
    "train_data = []\n",
    "train_label = []\n",
    "val_data = []\n",
    "val_label = []\n",
    "\n",
    "for i, data in enumerate(trainloader):\n",
    "    inputs, labels = data\n",
    "    train_data_batch = []\n",
    "    for j in range(len(inputs)):        \n",
    "        image_temp = inputs[j][0].numpy()\n",
    "        image = []\n",
    "        for k in range(len(image_temp)):\n",
    "            image_column = image_temp[:,k]\n",
    "            image_column = image_column.reshape((100,1))\n",
    "            if k==0:\n",
    "                image = image_column\n",
    "            else:\n",
    "                image = np.vstack((image,image_column))\n",
    "        image = np.vstack((image, np.ones(1)))\n",
    "        if j == 0:\n",
    "            train_data_batch = image\n",
    "        else:\n",
    "            train_data_batch = np.hstack((train_data_batch,image))\n",
    "    if i == 0:\n",
    "        train_data = train_data_batch\n",
    "    else:\n",
    "        train_data = np.hstack((train_data,train_data_batch))\n",
    "    train_label = train_label+labels.tolist()\n",
    "train_label = np.array(train_label)\n",
    "\n",
    "for i, data in enumerate(valloader):\n",
    "    inputs, labels = data\n",
    "    val_data_batch = []\n",
    "    for j in range(len(inputs)):        \n",
    "        image_temp = inputs[j][0].numpy()\n",
    "        image = []\n",
    "        for k in range(len(image_temp)):\n",
    "            image_column = image_temp[:,k]\n",
    "            image_column = image_column.reshape((100,1))\n",
    "            if k==0:\n",
    "                image = image_column\n",
    "            else:\n",
    "                image = np.vstack((image,image_column))\n",
    "        image = np.vstack((image, np.ones(1)))\n",
    "        if j == 0:\n",
    "            val_data_batch = image\n",
    "        else:\n",
    "            val_data_batch = np.hstack((val_data_batch,image))\n",
    "    if i == 0:\n",
    "        val_data = val_data_batch\n",
    "    else:\n",
    "        val_data = np.hstack((val_data,val_data_batch))\n",
    "    val_label = val_label+labels.tolist()\n",
    "val_label = np.array(val_label)"
   ]
  },
  {
   "cell_type": "code",
   "execution_count": null,
   "metadata": {},
   "outputs": [],
   "source": []
  }
 ],
 "metadata": {
  "kernelspec": {
   "display_name": "PyTorch",
   "language": "python",
   "name": "torch"
  },
  "language_info": {
   "codemirror_mode": {
    "name": "ipython",
    "version": 3
   },
   "file_extension": ".py",
   "mimetype": "text/x-python",
   "name": "python",
   "nbconvert_exporter": "python",
   "pygments_lexer": "ipython3",
   "version": "3.6.9"
  }
 },
 "nbformat": 4,
 "nbformat_minor": 2
}
