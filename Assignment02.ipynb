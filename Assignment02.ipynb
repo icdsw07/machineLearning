{
 "cells": [
  {
   "cell_type": "markdown",
   "metadata": {},
   "source": [
    "# 20133807 Jeong Seong Woon"
   ]
  },
  {
   "cell_type": "code",
   "execution_count": 1,
   "metadata": {},
   "outputs": [],
   "source": [
    "import torch\n",
    "from torch.utils.data import Dataset, DataLoader\n",
    "import torchvision.transforms as transforms\n",
    "import torchvision\n",
    "import os\n",
    "import numpy as np\n",
    "import matplotlib.pyplot as plt"
   ]
  },
  {
   "cell_type": "markdown",
   "metadata": {},
   "source": [
    "## Load data"
   ]
  },
  {
   "cell_type": "code",
   "execution_count": 2,
   "metadata": {},
   "outputs": [],
   "source": [
    "transform = transforms.Compose([transforms.Grayscale(), transforms.ToTensor(),])"
   ]
  },
  {
   "cell_type": "code",
   "execution_count": 260,
   "metadata": {},
   "outputs": [],
   "source": [
    "train_data_path = './horse-or-human/train'\n",
    "trainset = torchvision.datasets.ImageFolder(root=train_data_path, transform=transform)\n",
    "trainloader = torch.utils.data.DataLoader(trainset, batch_size=10, shuffle=False, num_workers=1)\n",
    "validation_data_path = './horse-or-human/validation'\n",
    "valset = torchvision.datasets.ImageFolder(root=validation_data_path, transform=transform)\n",
    "valloader = torch.utils.data.DataLoader(valset, batch_size=10, shuffle=False, num_workers=1)"
   ]
  },
  {
   "cell_type": "markdown",
   "metadata": {},
   "source": [
    "## Convert Image data to matrix for calculating"
   ]
  },
  {
   "cell_type": "code",
   "execution_count": 286,
   "metadata": {
    "scrolled": true
   },
   "outputs": [],
   "source": [
    "train_data = []\n",
    "train_label = []\n",
    "val_data = []\n",
    "val_label = []\n",
    "\n",
    "for i, data in enumerate(trainloader):\n",
    "    inputs, labels = data\n",
    "    train_data_batch = []\n",
    "    for j in range(len(inputs)):        \n",
    "        image_temp = inputs[j][0].numpy()\n",
    "        image = []\n",
    "        for k in range(len(image_temp)):\n",
    "            image_column = image_temp[:,k]\n",
    "            image_column = image_column.reshape((100,1))\n",
    "            if k==0:\n",
    "                image = image_column\n",
    "            else:\n",
    "                image = np.vstack((image,image_column))\n",
    "        image = np.vstack((image, np.ones(1)))\n",
    "        if j == 0:\n",
    "            train_data_batch = image\n",
    "        else:\n",
    "            train_data_batch = np.hstack((train_data_batch,image))\n",
    "    if i == 0:\n",
    "        train_data = train_data_batch\n",
    "    else:\n",
    "        train_data = np.hstack((train_data,train_data_batch))\n",
    "    train_label = train_label+labels.tolist()\n",
    "train_label = np.array(train_label)\n",
    "train_label = train_label.reshape((len(train_label),1))\n",
    "\n",
    "for i, data in enumerate(valloader):\n",
    "    inputs, labels = data\n",
    "    val_data_batch = []\n",
    "    for j in range(len(inputs)):        \n",
    "        image_temp = inputs[j][0].numpy()\n",
    "        image = []\n",
    "        for k in range(len(image_temp)):\n",
    "            image_column = image_temp[:,k]\n",
    "            image_column = image_column.reshape((100,1))\n",
    "            if k==0:\n",
    "                image = image_column\n",
    "            else:\n",
    "                image = np.vstack((image,image_column))\n",
    "        image = np.vstack((image, np.ones(1)))\n",
    "        if j == 0:\n",
    "            val_data_batch = image\n",
    "        else:\n",
    "            val_data_batch = np.hstack((val_data_batch,image))\n",
    "    if i == 0:\n",
    "        val_data = val_data_batch\n",
    "    else:\n",
    "        val_data = np.hstack((val_data,val_data_batch))\n",
    "    val_label = val_label+labels.tolist()\n",
    "val_label = np.array(val_label)\n",
    "val_label = val_label.reshape((len(val_label),1))"
   ]
  },
  {
   "cell_type": "markdown",
   "metadata": {},
   "source": [
    "## Define Sigmoid function"
   ]
  },
  {
   "cell_type": "code",
   "execution_count": 268,
   "metadata": {},
   "outputs": [],
   "source": [
    "def sigmoid(x):\n",
    "    sig = 1/(1+np.exp(-x))\n",
    "    return sig"
   ]
  },
  {
   "cell_type": "markdown",
   "metadata": {},
   "source": [
    "## Define Loss function"
   ]
  },
  {
   "cell_type": "code",
   "execution_count": 295,
   "metadata": {},
   "outputs": [],
   "source": [
    "def lossFunc(w, X, Y):\n",
    "    m = len(Y)\n",
    "    result = (-1/m)*np.sum(Y*np.log(sigmoid(np.dot(X.T,w))) + (1-Y)*np.log(1-sigmoid(np.dot(X.T,w))+0.0000001))\n",
    "    return result"
   ]
  },
  {
   "cell_type": "markdown",
   "metadata": {},
   "source": [
    "## Define Accuracy function"
   ]
  },
  {
   "cell_type": "code",
   "execution_count": 270,
   "metadata": {},
   "outputs": [],
   "source": [
    "def accuracy(X,w):\n",
    "    return sigmoid(np.dot(X.T,w)) >= 0.5"
   ]
  },
  {
   "cell_type": "code",
   "execution_count": 271,
   "metadata": {},
   "outputs": [],
   "source": [
    "import time"
   ]
  },
  {
   "cell_type": "markdown",
   "metadata": {},
   "source": [
    "## Define GradientDescent function through Vectorizing"
   ]
  },
  {
   "cell_type": "code",
   "execution_count": 307,
   "metadata": {},
   "outputs": [],
   "source": [
    "loss_list_train = []\n",
    "loss_list_val = []\n",
    "accuracy_list_train = []\n",
    "accuracy_list_val = []\n",
    "time_list = []\n",
    "# w = np.zeros((10001,1))\n",
    "np.random.seed(0)\n",
    "w = np.random.normal(size=(10001,1))\n",
    "def gradientDescent(X, Y, w, l_rate):\n",
    "    m = len(Y)\n",
    "    iterations = 0\n",
    "    old_train = lossFunc(w, train_data, train_label)\n",
    "    old_val = lossFunc(w, val_data, val_label)\n",
    "    accuracy_train = (accuracy(train_data,w) == train_label).sum() / len(train_label)\n",
    "    accuracy_val = (accuracy(val_data,w) == val_label).sum() / len(val_label)\n",
    "    while(True):\n",
    "        iterations+=1\n",
    "        loss_list_train.append(old_train)\n",
    "        loss_list_val.append(old_val)\n",
    "        accuracy_list_train.append(accuracy_train)\n",
    "        accuracy_list_val.append(accuracy_val)\n",
    "        tic = time.time()\n",
    "        w = w - (l_rate/m)*np.dot(X, sigmoid(np.dot(X.T,w))-Y)\n",
    "        toc = time.time()\n",
    "        time_list.append((toc-tic)*1000)\n",
    "        current_train = lossFunc(w, train_data, train_label)\n",
    "        old_val = lossFunc(w, val_data, val_label)\n",
    "        accuracy_train = (accuracy(train_data,w) == train_label).sum() / len(train_label)\n",
    "        accuracy_val = (accuracy(val_data,w) == val_label).sum() / len(val_label)\n",
    "        if abs(old_train-current_train)< 1e-4:\n",
    "            break\n",
    "        else:\n",
    "            old_train = current_train"
   ]
  },
  {
   "cell_type": "markdown",
   "metadata": {},
   "source": [
    "## Run GradientDescent"
   ]
  },
  {
   "cell_type": "code",
   "execution_count": 308,
   "metadata": {
    "scrolled": false
   },
   "outputs": [],
   "source": [
    "gradientDescent(train_data, train_label, w, 0.01)"
   ]
  },
  {
   "cell_type": "markdown",
   "metadata": {},
   "source": [
    "## Plotting Loss graph"
   ]
  },
  {
   "cell_type": "code",
   "execution_count": 309,
   "metadata": {
    "scrolled": true
   },
   "outputs": [
    {
     "data": {
      "image/png": "[encoded data removed]",
      "text/plain": [
       "<Figure size 432x288 with 1 Axes>"
      ]
     },
     "metadata": {
      "needs_background": "light"
     },
     "output_type": "display_data"
    }
   ],
   "source": [
    "plt.plot(loss_list_train,label='training',color= 'r')\n",
    "plt.plot(loss_list_val,label='validation',color = 'b')\n",
    "plt.legend()\n",
    "plt.show()"
   ]
  },
  {
   "cell_type": "markdown",
   "metadata": {},
   "source": [
    "## Plotting Accuracy graph"
   ]
  },
  {
   "cell_type": "code",
   "execution_count": 310,
   "metadata": {
    "scrolled": true
   },
   "outputs": [
    {
     "data": {
      "image/png": "[encoded data removed]",
      "text/plain": [
       "<Figure size 432x288 with 1 Axes>"
      ]
     },
     "metadata": {
      "needs_background": "light"
     },
     "output_type": "display_data"
    }
   ],
   "source": [
    "plt.plot(accuracy_list_train,label='training', color='r')\n",
    "plt.plot(accuracy_list_val,label='validation',color='b')\n",
    "plt.legend()\n",
    "plt.show()"
   ]
  },
  {
   "cell_type": "markdown",
   "metadata": {},
   "source": [
    "## Plot table"
   ]
  },
  {
   "cell_type": "code",
   "execution_count": 245,
   "metadata": {},
   "outputs": [],
   "source": [
    "from pandas import Series, DataFrame\n",
    "import pandas as pd"
   ]
  },
  {
   "cell_type": "code",
   "execution_count": 311,
   "metadata": {
    "scrolled": false
   },
   "outputs": [
    {
     "data": {
      "text/html": [
       "<div>\n",
       "<style scoped>\n",
       "    .dataframe tbody tr th:only-of-type {\n",
       "        vertical-align: middle;\n",
       "    }\n",
       "\n",
       "    .dataframe tbody tr th {\n",
       "        vertical-align: top;\n",
       "    }\n",
       "\n",
       "    .dataframe thead th {\n",
       "        text-align: right;\n",
       "    }\n",
       "</style>\n",
       "<table border=\"1\" class=\"dataframe\">\n",
       "  <thead>\n",
       "    <tr style=\"text-align: right;\">\n",
       "      <th></th>\n",
       "      <th>Loss</th>\n",
       "      <th>Accruacy</th>\n",
       "    </tr>\n",
       "  </thead>\n",
       "  <tbody>\n",
       "    <tr>\n",
       "      <td>Training</td>\n",
       "      <td>0.418088</td>\n",
       "      <td>0.904576</td>\n",
       "    </tr>\n",
       "    <tr>\n",
       "      <td>Validation</td>\n",
       "      <td>3.372746</td>\n",
       "      <td>0.695312</td>\n",
       "    </tr>\n",
       "  </tbody>\n",
       "</table>\n",
       "</div>"
      ],
      "text/plain": [
       "                Loss  Accruacy\n",
       "Training    0.418088  0.904576\n",
       "Validation  3.372746  0.695312"
      ]
     },
     "execution_count": 311,
     "metadata": {},
     "output_type": "execute_result"
    }
   ],
   "source": [
    "data = [[loss_list_train[-1], accuracy_list_train[-1]],\n",
    "        [loss_list_val[-1], accuracy_list_val[-1]]]\n",
    "frame = pd.DataFrame(data, columns = ['Loss','Accruacy'],\n",
    "                        index = ['Training','Validation'])\n",
    "frame"
   ]
  },
  {
   "cell_type": "markdown",
   "metadata": {},
   "source": [
    "## Plotting time graph by milisecond"
   ]
  },
  {
   "cell_type": "code",
   "execution_count": 312,
   "metadata": {},
   "outputs": [
    {
     "data": {
      "text/plain": [
       "[<matplotlib.lines.Line2D at 0x266d6e61390>]"
      ]
     },
     "execution_count": 312,
     "metadata": {},
     "output_type": "execute_result"
    },
    {
     "data": {
      "image/png": "[encoded data removed]",
      "text/plain": [
       "<Figure size 432x288 with 1 Axes>"
      ]
     },
     "metadata": {
      "needs_background": "light"
     },
     "output_type": "display_data"
    }
   ],
   "source": [
    "plt.plot(time_list, c='black')"
   ]
  }
 ],
 "metadata": {
  "kernelspec": {
   "display_name": "PyTorch",
   "language": "python",
   "name": "torch"
  },
  "language_info": {
   "codemirror_mode": {
    "name": "ipython",
    "version": 3
   },
   "file_extension": ".py",
   "mimetype": "text/x-python",
   "name": "python",
   "nbconvert_exporter": "python",
   "pygments_lexer": "ipython3",
   "version": "3.6.9"
  }
 },
 "nbformat": 4,
 "nbformat_minor": 2
}
