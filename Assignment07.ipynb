{
 "cells": [
  {
   "cell_type": "markdown",
   "metadata": {},
   "source": [
    "## 20133807 Jeong Seong Woon"
   ]
  },
  {
   "cell_type": "markdown",
   "metadata": {},
   "source": [
    "### Import modules"
   ]
  },
  {
   "cell_type": "code",
   "execution_count": 1,
   "metadata": {},
   "outputs": [],
   "source": [
    "from __future__ import print_function\n",
    "import torch.nn as nn\n",
    "import torch.nn.functional as F\n",
    "import math\n",
    "import torch\n",
    "from torch.utils.data import Dataset, DataLoader\n",
    "import torchvision.transforms as transforms\n",
    "import torchvision\n",
    "import os\n",
    "import numpy as np\n",
    "import matplotlib.pyplot as plt\n",
    "from pandas import Series, DataFrame\n",
    "import pandas as pd\n",
    "import torch.optim as optim\n",
    "import torch.backends.cudnn as cudnn\n",
    "import argparse\n",
    "import sys\n",
    "import time\n",
    "import datetime \n",
    "import csv\n",
    "import configparser\n",
    "import platform\n",
    "from torchvision import datasets, transforms\n",
    "from torch.autograd import Variable\n",
    "from random import shuffle"
   ]
  },
  {
   "cell_type": "markdown",
   "metadata": {},
   "source": [
    "### Load Data using torchvision with mini-batch"
   ]
  },
  {
   "cell_type": "code",
   "execution_count": 13,
   "metadata": {},
   "outputs": [],
   "source": [
    "transform = transforms.Compose([transforms.Grayscale(),transforms.ToTensor(),])\n",
    "train_data_path = './horse-or-human/train'\n",
    "trainset = torchvision.datasets.ImageFolder(root=train_data_path,\\\n",
    "                                            transform=transform)\n",
    "loader_train = torch.utils.data.DataLoader(trainset, batch_size=30, \\\n",
    "                                           shuffle=True, num_workers=1)\n",
    "test_data_path = './horse-or-human/validation'\n",
    "testset = torchvision.datasets.ImageFolder(root=test_data_path, \\\n",
    "                                           transform=transform)\n",
    "loader_test = torch.utils.data.DataLoader(testset, batch_size=30, \\\n",
    "                                          shuffle=True, num_workers=1)"
   ]
  },
  {
   "cell_type": "markdown",
   "metadata": {},
   "source": [
    "### Class for nn model"
   ]
  },
  {
   "cell_type": "code",
   "execution_count": 14,
   "metadata": {},
   "outputs": [],
   "source": [
    "class Linear(nn.Module):\n",
    "\n",
    "    def __init__(self, num_classes=2):\n",
    "\n",
    "        super(Linear, self).__init__()\n",
    "\n",
    "        self.number_class   = num_classes\n",
    "\n",
    "        _size_image     = 100* 100\n",
    "        _num1           = 2000\n",
    "        _num2           = 400\n",
    "        _num3           = 200\n",
    "        _num4           = 20\n",
    "        _num5           = 10\n",
    "        \n",
    "        self.fc1        = nn.Linear(_size_image, _num1, bias=True)\n",
    "        self.fc2        = nn.Linear(_num1, _num2, bias=True)\n",
    "        self.fc3        = nn.Linear(_num2, _num3, bias=True)\n",
    "        self.fc4        = nn.Linear(_num3, _num4, bias=True)\n",
    "        self.fc5        = nn.Linear(_num4, _num5, bias=True)\n",
    "        self.fc6        = nn.Linear(_num5, num_classes)\n",
    "\n",
    "        self.fc_layer1  = nn.Sequential(self.fc1, nn.LeakyReLU(0.2, inplace=True))\n",
    "        self.fc_layer2  = nn.Sequential(self.fc2, nn.LeakyReLU(0.2, inplace=True))\n",
    "        self.fc_layer3  = nn.Sequential(self.fc3, nn.LeakyReLU(0.2, inplace=True))\n",
    "        self.fc_layer4  = nn.Sequential(self.fc4, nn.ReLU(True))\n",
    "        self.fc_layer5  = nn.Sequential(self.fc5, nn.ReLU(True))\n",
    "        self.fc_layer6  = nn.Sequential(self.fc6, nn.Sigmoid()) #output Layer\n",
    "        \n",
    "        self.classifier = nn.Sequential(self.fc_layer1, self.fc_layer2,\\\n",
    "                                        self.fc_layer3, self.fc_layer4,\\\n",
    "                                        self.fc_layer5,self.fc_layer6)\n",
    "        \n",
    "        self._initialize_weight()        \n",
    "        \n",
    "    def _initialize_weight(self):        \n",
    "            \n",
    "        for m in self.modules():\n",
    "            if isinstance(m, nn.Linear):\n",
    "                n = m.in_features \n",
    "                m.weight.data.uniform_(- 1.0 / math.sqrt(n), 1.0 / math.sqrt(n))\n",
    "                if m.bias is not None:\n",
    "                    m.bias.data.zero_()\n",
    "\n",
    "    def forward(self, x):\n",
    "\n",
    "        x = x.view(x.size(0), -1)\n",
    "        x = self.classifier(x)\n",
    "\n",
    "        return x"
   ]
  },
  {
   "cell_type": "markdown",
   "metadata": {},
   "source": [
    "### Generate Model"
   ]
  },
  {
   "cell_type": "code",
   "execution_count": 32,
   "metadata": {},
   "outputs": [],
   "source": [
    "num_classes = 2\n",
    "model = Linear(num_classes=num_classes)"
   ]
  },
  {
   "cell_type": "markdown",
   "metadata": {},
   "source": [
    "### Generate optimizer and objective function"
   ]
  },
  {
   "cell_type": "code",
   "execution_count": 33,
   "metadata": {},
   "outputs": [],
   "source": [
    "# ,weight_decay=1\n",
    "optimizer   = optim.SGD(model.parameters(),lr = 0.1)\n",
    "objective   = nn.CrossEntropyLoss()\n",
    "init_lr = 0.05"
   ]
  },
  {
   "cell_type": "markdown",
   "metadata": {},
   "source": [
    "### Function for adjusting Learning Rate at each Epoch"
   ]
  },
  {
   "cell_type": "code",
   "execution_count": 34,
   "metadata": {},
   "outputs": [],
   "source": [
    "def adjust_lr(optimizer, epoch):\n",
    "    lr = init_lr * (0.5 ** (epoch // 20))\n",
    "    for param_group in optimizer.param_groups:\n",
    "        param_group['lr'] = lr"
   ]
  },
  {
   "cell_type": "markdown",
   "metadata": {},
   "source": [
    "### Define train Function"
   ]
  },
  {
   "cell_type": "code",
   "execution_count": 35,
   "metadata": {},
   "outputs": [],
   "source": [
    "def train():\n",
    "\n",
    "    # print('train the model at given epoch')\n",
    "\n",
    "    loss_train          = []\n",
    "    accuracy_train = []\n",
    "    correct =0\n",
    "\n",
    "    model.train()\n",
    "\n",
    "    for idx_batch, (data, target) in enumerate(loader_train):\n",
    "#         print(\"batch\",idx_batch)\n",
    "#         if bCuda:\n",
    "        \n",
    "#             data, target    = data.cuda(), target.cuda()\n",
    "\n",
    "        data, target    = Variable(data), Variable(target)\n",
    "\n",
    "        optimizer.zero_grad()\n",
    "\n",
    "        output  = model(data)\n",
    "        loss    = objective(output, target)\n",
    "\n",
    "        loss.backward()\n",
    "        optimizer.step()\n",
    "\n",
    "        loss_train_batch    = loss.item() / len(data)\n",
    "#         loss_train_batch    = loss.item()\n",
    "        loss_train.append(loss_train_batch)\n",
    "        \n",
    "        pred        = output.data.max(1)[1]\n",
    "        correct     = pred.eq(target.data.view_as(pred)).cpu().sum()\n",
    "        accuracy_train_batch   = 100. * float(correct) / len(target)\n",
    "        accuracy_train.append(accuracy_train_batch) \n",
    "        \n",
    "    loss_train_mean     = np.mean(loss_train) # 1 epoch 내의 모든 배치 loss의 평균\n",
    "    accuracy_train_mean = np.mean(accuracy_train)#1 epoch 내의 모든 배치 accuracy의 평균\n",
    "    loss_train_std      = np.std(loss_train)\n",
    "    accuracy_train_std = np.std(accuracy_train)\n",
    "    return {'loss_train_mean': loss_train_mean, \\\n",
    "            'accuracy_train_mean':accuracy_train_mean ,\\\n",
    "            'loss_train_std': loss_train_std, \\\n",
    "            'accuracy_train_std': accuracy_train_std}"
   ]
  },
  {
   "cell_type": "markdown",
   "metadata": {},
   "source": [
    "### Define Test Function"
   ]
  },
  {
   "cell_type": "code",
   "execution_count": 36,
   "metadata": {},
   "outputs": [],
   "source": [
    "def test():\n",
    "\n",
    "    # print('test the model at given epoch')\n",
    "\n",
    "    accuracy_test   = []\n",
    "    loss_test       = 0\n",
    "    correct         = 0\n",
    "\n",
    "    model.eval()\n",
    "\n",
    "    for idx_batch, (data, target) in enumerate(loader_test):\n",
    "\n",
    "\n",
    "        data, target    = Variable(data), Variable(target)\n",
    "\n",
    "        output  = model(data)\n",
    "        loss    = objective(output, target)\n",
    "\n",
    "        loss_test   += loss.item()\n",
    "        pred        = output.data.max(1)[1]\n",
    "        correct     += pred.eq(target.data.view_as(pred)).cpu().sum()\n",
    "\n",
    "#     loss_test       = loss_test / len(loader_test.dataset)\n",
    "    loss_test       = loss_test/len(loader_test.dataset)\n",
    "    accuracy_test   = 100. * float(correct) / len(loader_test.dataset)\n",
    "    return {'loss_test': loss_test, 'accuracy_test': accuracy_test}"
   ]
  },
  {
   "cell_type": "markdown",
   "metadata": {},
   "source": [
    "### Run the model that generated"
   ]
  },
  {
   "cell_type": "code",
   "execution_count": 37,
   "metadata": {
    "scrolled": false
   },
   "outputs": [
    {
     "name": "stdout",
     "output_type": "stream",
     "text": [
      "[epoch 1] loss: (training) 0.0252774 (testing) 0.0243541 \n",
      "          accuracy: (training) 51.143 (testing) 50.000\n",
      "[epoch 2] loss: (training) 0.0252582 (testing) 0.0243413 \n",
      "          accuracy: (training) 62.136 (testing) 53.516\n",
      "[epoch 3] loss: (training) 0.0252473 (testing) 0.0243227 \n",
      "          accuracy: (training) 53.347 (testing) 54.297\n",
      "[epoch 4] loss: (training) 0.0252370 (testing) 0.0243141 \n",
      "          accuracy: (training) 56.993 (testing) 50.781\n",
      "[epoch 5] loss: (training) 0.0252329 (testing) 0.0242858 \n",
      "          accuracy: (training) 51.769 (testing) 75.391\n",
      "[epoch 6] loss: (training) 0.0252161 (testing) 0.0242638 \n",
      "          accuracy: (training) 55.796 (testing) 73.828\n",
      "[epoch 7] loss: (training) 0.0251885 (testing) 0.0242521 \n",
      "          accuracy: (training) 60.163 (testing) 55.859\n",
      "[epoch 8] loss: (training) 0.0251813 (testing) 0.0242088 \n",
      "          accuracy: (training) 56.585 (testing) 64.062\n",
      "[epoch 9] loss: (training) 0.0251473 (testing) 0.0241747 \n",
      "          accuracy: (training) 62.381 (testing) 65.625\n",
      "[epoch 10] loss: (training) 0.0251117 (testing) 0.0241372 \n",
      "          accuracy: (training) 63.306 (testing) 60.938\n",
      "[epoch 11] loss: (training) 0.0251268 (testing) 0.0240347 \n",
      "          accuracy: (training) 64.177 (testing) 86.328\n",
      "[epoch 12] loss: (training) 0.0250725 (testing) 0.0239515 \n",
      "          accuracy: (training) 68.299 (testing) 85.547\n",
      "[epoch 13] loss: (training) 0.0250334 (testing) 0.0238095 \n",
      "          accuracy: (training) 71.224 (testing) 85.938\n",
      "[epoch 14] loss: (training) 0.0248944 (testing) 0.0235924 \n",
      "          accuracy: (training) 74.163 (testing) 86.328\n",
      "[epoch 15] loss: (training) 0.0247207 (testing) 0.0232972 \n",
      "          accuracy: (training) 75.592 (testing) 82.031\n",
      "[epoch 16] loss: (training) 0.0245887 (testing) 0.0226723 \n",
      "          accuracy: (training) 74.014 (testing) 85.547\n",
      "[epoch 17] loss: (training) 0.0241304 (testing) 0.0217355 \n",
      "          accuracy: (training) 74.231 (testing) 88.281\n",
      "[epoch 18] loss: (training) 0.0236425 (testing) 0.0231322 \n",
      "          accuracy: (training) 72.082 (testing) 57.422\n",
      "[epoch 19] loss: (training) 0.0219682 (testing) 0.0172355 \n",
      "          accuracy: (training) 74.925 (testing) 88.281\n",
      "[epoch 20] loss: (training) 0.0210164 (testing) 0.0192266 \n",
      "          accuracy: (training) 73.116 (testing) 75.781\n",
      "[epoch 21] loss: (training) 0.0201912 (testing) 0.0175693 \n",
      "          accuracy: (training) 74.830 (testing) 81.250\n",
      "[epoch 22] loss: (training) 0.0201809 (testing) 0.0164942 \n",
      "          accuracy: (training) 76.871 (testing) 84.766\n",
      "[epoch 23] loss: (training) 0.0194723 (testing) 0.0269006 \n",
      "          accuracy: (training) 76.803 (testing) 50.000\n",
      "[epoch 24] loss: (training) 0.0194743 (testing) 0.0230790 \n",
      "          accuracy: (training) 77.088 (testing) 60.156\n",
      "[epoch 25] loss: (training) 0.0188376 (testing) 0.0156636 \n",
      "          accuracy: (training) 77.687 (testing) 87.109\n",
      "[epoch 26] loss: (training) 0.0200560 (testing) 0.0159288 \n",
      "          accuracy: (training) 75.891 (testing) 84.766\n",
      "[epoch 27] loss: (training) 0.0190978 (testing) 0.0257573 \n",
      "          accuracy: (training) 78.993 (testing) 56.641\n",
      "[epoch 28] loss: (training) 0.0181924 (testing) 0.0150838 \n",
      "          accuracy: (training) 80.095 (testing) 88.672\n",
      "[epoch 29] loss: (training) 0.0178997 (testing) 0.0165175 \n",
      "          accuracy: (training) 80.381 (testing) 82.422\n",
      "[epoch 30] loss: (training) 0.0193614 (testing) 0.0291041 \n",
      "          accuracy: (training) 80.626 (testing) 50.000\n",
      "[epoch 31] loss: (training) 0.0242707 (testing) 0.0162375 \n",
      "          accuracy: (training) 62.680 (testing) 83.594\n",
      "[epoch 32] loss: (training) 0.0177902 (testing) 0.0229545 \n",
      "          accuracy: (training) 81.306 (testing) 63.672\n",
      "[epoch 33] loss: (training) 0.0174830 (testing) 0.0145997 \n",
      "          accuracy: (training) 81.810 (testing) 90.234\n",
      "[epoch 34] loss: (training) 0.0180023 (testing) 0.0194501 \n",
      "          accuracy: (training) 83.823 (testing) 76.953\n",
      "[epoch 35] loss: (training) 0.0179361 (testing) 0.0193540 \n",
      "          accuracy: (training) 81.565 (testing) 75.781\n",
      "[epoch 36] loss: (training) 0.0177394 (testing) 0.0163834 \n",
      "          accuracy: (training) 81.116 (testing) 83.203\n",
      "[epoch 37] loss: (training) 0.0166208 (testing) 0.0173012 \n",
      "          accuracy: (training) 84.762 (testing) 80.859\n",
      "[epoch 38] loss: (training) 0.0172913 (testing) 0.0154069 \n",
      "          accuracy: (training) 83.973 (testing) 85.938\n",
      "[epoch 39] loss: (training) 0.0182046 (testing) 0.0154214 \n",
      "          accuracy: (training) 81.823 (testing) 86.719\n",
      "[epoch 40] loss: (training) 0.0168431 (testing) 0.0153723 \n",
      "          accuracy: (training) 83.782 (testing) 87.891\n",
      "[epoch 41] loss: (training) 0.0157278 (testing) 0.0148867 \n",
      "          accuracy: (training) 88.286 (testing) 89.062\n",
      "[epoch 42] loss: (training) 0.0160741 (testing) 0.0151840 \n",
      "          accuracy: (training) 89.401 (testing) 88.281\n",
      "[epoch 43] loss: (training) 0.0156894 (testing) 0.0190716 \n",
      "          accuracy: (training) 88.639 (testing) 76.562\n",
      "[epoch 44] loss: (training) 0.0151395 (testing) 0.0147081 \n",
      "          accuracy: (training) 90.190 (testing) 88.672\n",
      "[epoch 45] loss: (training) 0.0157348 (testing) 0.0167499 \n",
      "          accuracy: (training) 89.020 (testing) 81.250\n",
      "[epoch 46] loss: (training) 0.0149179 (testing) 0.0146103 \n",
      "          accuracy: (training) 89.905 (testing) 88.672\n",
      "[epoch 47] loss: (training) 0.0153863 (testing) 0.0180571 \n",
      "          accuracy: (training) 89.497 (testing) 77.344\n",
      "[epoch 48] loss: (training) 0.0152181 (testing) 0.0193014 \n",
      "          accuracy: (training) 89.878 (testing) 76.562\n",
      "[epoch 49] loss: (training) 0.0151966 (testing) 0.0148702 \n",
      "          accuracy: (training) 89.755 (testing) 88.672\n",
      "[epoch 50] loss: (training) 0.0151174 (testing) 0.0187783 \n",
      "          accuracy: (training) 89.143 (testing) 76.562\n",
      "[epoch 51] loss: (training) 0.0144819 (testing) 0.0166535 \n",
      "          accuracy: (training) 91.238 (testing) 82.031\n",
      "[epoch 52] loss: (training) 0.0149476 (testing) 0.0210885 \n",
      "          accuracy: (training) 91.973 (testing) 69.141\n",
      "[epoch 53] loss: (training) 0.0147183 (testing) 0.0180699 \n",
      "          accuracy: (training) 90.762 (testing) 78.125\n",
      "[epoch 54] loss: (training) 0.0146556 (testing) 0.0168518 \n",
      "          accuracy: (training) 92.000 (testing) 82.031\n",
      "[epoch 55] loss: (training) 0.0143920 (testing) 0.0146411 \n",
      "          accuracy: (training) 91.619 (testing) 88.672\n",
      "[epoch 56] loss: (training) 0.0148396 (testing) 0.0249111 \n",
      "          accuracy: (training) 90.952 (testing) 58.984\n",
      "[epoch 57] loss: (training) 0.0147703 (testing) 0.0229754 \n",
      "          accuracy: (training) 90.735 (testing) 64.062\n",
      "[epoch 58] loss: (training) 0.0145181 (testing) 0.0170028 \n",
      "          accuracy: (training) 91.143 (testing) 82.812\n",
      "[epoch 59] loss: (training) 0.0145266 (testing) 0.0181989 \n",
      "          accuracy: (training) 91.905 (testing) 79.297\n",
      "[epoch 60] loss: (training) 0.0143869 (testing) 0.0255404 \n",
      "          accuracy: (training) 92.095 (testing) 57.812\n",
      "[epoch 61] loss: (training) 0.0141489 (testing) 0.0180356 \n",
      "          accuracy: (training) 92.476 (testing) 78.516\n",
      "[epoch 62] loss: (training) 0.0144529 (testing) 0.0151622 \n",
      "          accuracy: (training) 93.211 (testing) 87.891\n",
      "[epoch 63] loss: (training) 0.0138275 (testing) 0.0149590 \n",
      "          accuracy: (training) 94.286 (testing) 87.891\n",
      "[epoch 64] loss: (training) 0.0140045 (testing) 0.0159607 \n",
      "          accuracy: (training) 93.687 (testing) 85.938\n",
      "[epoch 65] loss: (training) 0.0137315 (testing) 0.0155796 \n",
      "          accuracy: (training) 93.619 (testing) 86.328\n",
      "[epoch 66] loss: (training) 0.0142954 (testing) 0.0150068 \n",
      "          accuracy: (training) 93.782 (testing) 88.281\n",
      "[epoch 67] loss: (training) 0.0145843 (testing) 0.0157086 \n",
      "          accuracy: (training) 93.565 (testing) 85.156\n",
      "[epoch 68] loss: (training) 0.0134985 (testing) 0.0158768 \n",
      "          accuracy: (training) 94.571 (testing) 85.156\n",
      "[epoch 69] loss: (training) 0.0134721 (testing) 0.0175707 \n",
      "          accuracy: (training) 94.762 (testing) 78.906\n",
      "[epoch 70] loss: (training) 0.0134274 (testing) 0.0186276 \n",
      "          accuracy: (training) 95.048 (testing) 77.344\n",
      "[epoch 71] loss: (training) 0.0134831 (testing) 0.0152257 \n",
      "          accuracy: (training) 94.667 (testing) 86.719\n",
      "[epoch 72] loss: (training) 0.0134589 (testing) 0.0161725 \n",
      "          accuracy: (training) 95.238 (testing) 85.156\n"
     ]
    },
    {
     "name": "stdout",
     "output_type": "stream",
     "text": [
      "[epoch 73] loss: (training) 0.0133493 (testing) 0.0155231 \n",
      "          accuracy: (training) 95.048 (testing) 85.938\n",
      "[epoch 74] loss: (training) 0.0137863 (testing) 0.0153015 \n",
      "          accuracy: (training) 94.544 (testing) 87.891\n",
      "[epoch 75] loss: (training) 0.0132175 (testing) 0.0170113 \n",
      "          accuracy: (training) 95.429 (testing) 82.031\n",
      "[epoch 76] loss: (training) 0.0132278 (testing) 0.0185824 \n",
      "          accuracy: (training) 95.143 (testing) 77.734\n",
      "[epoch 77] loss: (training) 0.0131723 (testing) 0.0158165 \n",
      "          accuracy: (training) 95.524 (testing) 84.375\n",
      "[epoch 78] loss: (training) 0.0131722 (testing) 0.0159624 \n",
      "          accuracy: (training) 95.619 (testing) 85.547\n"
     ]
    }
   ],
   "source": [
    "loss_train_mean =[]\n",
    "loss_train_std = []\n",
    "accuracy_train_mean =[]\n",
    "accuracy_train_std = []\n",
    "loss_test=[]\n",
    "accuracy_test=[]\n",
    "epoch_idx = 0\n",
    "train_loss_old = 0\n",
    "while(True):    \n",
    "    adjust_lr(optimizer, epoch_idx) #adaptive learning_rate\n",
    "    epoch_idx+=1\n",
    "    result_train    = train()\n",
    "    result_test     = test()\n",
    "    train_loss_current = result_train['loss_train_mean']\n",
    "    loss_train_mean.append(train_loss_current)\n",
    "    loss_train_std.append(result_train['loss_train_std'])\n",
    "    accuracy_train_mean.append(result_train['accuracy_train_mean'])\n",
    "    accuracy_train_std.append(result_train['accuracy_train_std'])\n",
    "    loss_test.append(result_test['loss_test'])\n",
    "    accuracy_test.append(result_test['accuracy_test'])\n",
    "    print(\"[epoch\",str(epoch_idx)+\"]\",\"loss: (training)\",'%.7f'% train_loss_current,\\\n",
    "          \"(testing)\",'%.7f'% result_test['loss_test'],\"\\n\",\\\n",
    "          \"         accuracy: (training)\",'%.3f'%\\\n",
    "          result_train['accuracy_train_mean'], \"(testing)\",'%.3f'% \\\n",
    "          result_test['accuracy_test'])\n",
    "    if abs(train_loss_old - result_train['loss_train_mean']) < 1e-7:\n",
    "        break\n",
    "    \n",
    "    train_loss_old = train_loss_current  "
   ]
  },
  {
   "cell_type": "markdown",
   "metadata": {},
   "source": [
    "### Plot the Result and Get each Value at Convergence"
   ]
  },
  {
   "cell_type": "code",
   "execution_count": 38,
   "metadata": {},
   "outputs": [
    {
     "data": {
      "image/png": "[encoded data removed]",
      "text/plain": [
       "<Figure size 432x288 with 1 Axes>"
      ]
     },
     "metadata": {
      "needs_background": "light"
     },
     "output_type": "display_data"
    },
    {
     "data": {
      "image/png": "[encoded data removed]",
      "text/plain": [
       "<Figure size 432x288 with 1 Axes>"
      ]
     },
     "metadata": {
      "needs_background": "light"
     },
     "output_type": "display_data"
    },
    {
     "data": {
      "text/html": [
       "<div>\n",
       "<style scoped>\n",
       "    .dataframe tbody tr th:only-of-type {\n",
       "        vertical-align: middle;\n",
       "    }\n",
       "\n",
       "    .dataframe tbody tr th {\n",
       "        vertical-align: top;\n",
       "    }\n",
       "\n",
       "    .dataframe thead th {\n",
       "        text-align: right;\n",
       "    }\n",
       "</style>\n",
       "<table border=\"1\" class=\"dataframe\">\n",
       "  <thead>\n",
       "    <tr style=\"text-align: right;\">\n",
       "      <th></th>\n",
       "      <th>Loss</th>\n",
       "      <th>Accruacy</th>\n",
       "    </tr>\n",
       "  </thead>\n",
       "  <tbody>\n",
       "    <tr>\n",
       "      <td>Training</td>\n",
       "      <td>0.013172</td>\n",
       "      <td>95.619048</td>\n",
       "    </tr>\n",
       "    <tr>\n",
       "      <td>Validation</td>\n",
       "      <td>0.015962</td>\n",
       "      <td>85.546875</td>\n",
       "    </tr>\n",
       "  </tbody>\n",
       "</table>\n",
       "</div>"
      ],
      "text/plain": [
       "                Loss   Accruacy\n",
       "Training    0.013172  95.619048\n",
       "Validation  0.015962  85.546875"
      ]
     },
     "execution_count": 38,
     "metadata": {},
     "output_type": "execute_result"
    }
   ],
   "source": [
    "np_loss_train_mean = np.array(loss_train_mean)\n",
    "np_loss_train_std = np.array(loss_train_std)\n",
    "np_accuracy_train_mean =np.array(accuracy_train_mean)\n",
    "np_accuracy_train_std = np.array(accuracy_train_std)\n",
    "np_loss_test= np.array(loss_test)\n",
    "np_accuracy_test=np.array(accuracy_test)\n",
    "\n",
    "plt.figure(1)\n",
    "plt.plot(np_loss_train_mean,label='mean_loss_training',color= 'r')\n",
    "plt.fill_between(np.arange(len(np_loss_train_mean)),\\\n",
    "                 np_loss_train_mean-np_loss_train_std,\\\n",
    "                 np_loss_train_mean+np_loss_train_std,color='r',alpha=0.3)\n",
    "plt.plot(np_loss_test,label='loss_test',color = 'b')\n",
    "plt.legend()\n",
    "\n",
    "plt.figure(2)\n",
    "plt.plot(np_accuracy_train_mean,label='mean_accuracy_training', color='r')\n",
    "plt.fill_between(np.arange(len(np_accuracy_train_mean)),\\\n",
    "                 np_accuracy_train_mean-np_accuracy_train_std,\\\n",
    "                 np_accuracy_train_mean+np_accuracy_train_std,color='r',alpha=0.3)\n",
    "plt.plot(accuracy_test,label='accuracy_test',color='b')\n",
    "plt.legend()\n",
    "plt.show()\n",
    "\n",
    "data = [[loss_train_mean[-1], accuracy_train_mean[-1]],\n",
    "        [loss_test[-1], accuracy_test[-1]]]\n",
    "frame = pd.DataFrame(data, columns = ['Loss','Accruacy'],\n",
    "                        index = ['Training','Validation'])\n",
    "frame"
   ]
  }
 ],
 "metadata": {
  "kernelspec": {
   "display_name": "PyTorch",
   "language": "python",
   "name": "torch"
  },
  "language_info": {
   "codemirror_mode": {
    "name": "ipython",
    "version": 3
   },
   "file_extension": ".py",
   "mimetype": "text/x-python",
   "name": "python",
   "nbconvert_exporter": "python",
   "pygments_lexer": "ipython3",
   "version": "3.6.9"
  }
 },
 "nbformat": 4,
 "nbformat_minor": 2
}
