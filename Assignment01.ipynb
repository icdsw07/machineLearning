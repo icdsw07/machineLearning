{
 "cells": [
  {
   "cell_type": "markdown",
   "metadata": {},
   "source": [
    "# Assignment 01"
   ]
  },
  {
   "cell_type": "markdown",
   "metadata": {},
   "source": [
    "## 20133807 Jeong Seong Woon"
   ]
  },
  {
   "cell_type": "markdown",
   "metadata": {},
   "source": [
    "### import modules"
   ]
  },
  {
   "cell_type": "code",
   "execution_count": 413,
   "metadata": {},
   "outputs": [],
   "source": [
    "import torch\n",
    "import numpy as np\n",
    "import matplotlib.pyplot as plt\n",
    "import random"
   ]
  },
  {
   "cell_type": "code",
   "execution_count": 414,
   "metadata": {},
   "outputs": [],
   "source": [
    "def noise(p,nx,ny):\n",
    "    s = np.empty((2,len(nx)),dtype=float)\n",
    "    for i in range(len(nx)):\n",
    "        s[0][i] = p[0] + nx[i]\n",
    "        s[1][i] = p[1] + ny[i]\n",
    "    return s"
   ]
  },
  {
   "cell_type": "markdown",
   "metadata": {},
   "source": [
    "### make 2 center points and many noised points"
   ]
  },
  {
   "cell_type": "markdown",
   "metadata": {},
   "source": [
    "#### draw train data"
   ]
  },
  {
   "cell_type": "code",
   "execution_count": 415,
   "metadata": {
    "scrolled": true
   },
   "outputs": [
    {
     "data": {
      "text/plain": [
       "<matplotlib.collections.PathCollection at 0x213dcc55f98>"
      ]
     },
     "execution_count": 415,
     "metadata": {},
     "output_type": "execute_result"
    },
    {
     "data": {
      "image/png": "[encoded data removed]",
      "text/plain": [
       "<Figure size 432x288 with 1 Axes>"
      ]
     },
     "metadata": {
      "needs_background": "light"
     },
     "output_type": "display_data"
    }
   ],
   "source": [
    "np.random.seed(3)\n",
    "point1 = 10*np.random.rand(2)\n",
    "point2 = 10*np.random.rand(2)\n",
    "\n",
    "noise_num = 40\n",
    "p1_noise_train = np.random.normal(0,1,size = (2,noise_num))\n",
    "p2_noise_train = np.random.normal(0,1,size = (2,noise_num))\n",
    "p1_noise_test = np.random.normal(0,1,size = (2,noise_num))\n",
    "p2_noise_test = np.random.normal(0,1,size = (2,noise_num))\n",
    "\n",
    "\n",
    "point1_noise_train = noise(point1, p1_noise_train[0], p1_noise_train[1])\n",
    "point2_noise_train = noise(point2, p2_noise_train[0], p2_noise_train[1])\n",
    "point1_noise_test = noise(point1, p1_noise_test[0], p1_noise_test[1])\n",
    "point2_noise_test = noise(point2,p2_noise_test[0], p2_noise_test[1])\n",
    "\n",
    "label_point1 = np.zeros((noise_num,1))\n",
    "label_point2 = np.ones((noise_num,1))\n",
    "\n",
    " \n",
    "plt.scatter(point1[0],point1[1],s=30,c='k')\n",
    "plt.scatter(point2[0],point2[1],s=30,c='k')\n",
    "plt.scatter(point1_noise_train[0], point1_noise_train[1], s = 5, c='b')\n",
    "plt.scatter(point2_noise_train[0], point2_noise_train[1], s = 5, c='r')"
   ]
  },
  {
   "cell_type": "markdown",
   "metadata": {},
   "source": [
    "#### draw test data"
   ]
  },
  {
   "cell_type": "code",
   "execution_count": 416,
   "metadata": {
    "scrolled": false
   },
   "outputs": [
    {
     "data": {
      "text/plain": [
       "<matplotlib.collections.PathCollection at 0x213dcea01d0>"
      ]
     },
     "execution_count": 416,
     "metadata": {},
     "output_type": "execute_result"
    },
    {
     "data": {
      "image/png": "[encoded data removed]",
      "text/plain": [
       "<Figure size 432x288 with 1 Axes>"
      ]
     },
     "metadata": {
      "needs_background": "light"
     },
     "output_type": "display_data"
    }
   ],
   "source": [
    "plt.scatter(point1[0],point1[1],s=30,c='k')\n",
    "plt.scatter(point2[0],point2[1],s=30,c='k')\n",
    "plt.scatter(point1_noise_test[0], point1_noise_test[1], s = 5, c='c')\n",
    "plt.scatter(point2_noise_test[0], point2_noise_test[1], s = 5, c='g')"
   ]
  },
  {
   "cell_type": "markdown",
   "metadata": {},
   "source": [
    "### sigmoid function"
   ]
  },
  {
   "cell_type": "code",
   "execution_count": 417,
   "metadata": {},
   "outputs": [],
   "source": [
    "def sigmoid(z):\n",
    "    return 1/(1+np.exp(-z))"
   ]
  },
  {
   "cell_type": "markdown",
   "metadata": {},
   "source": [
    "### make array for training & testing"
   ]
  },
  {
   "cell_type": "code",
   "execution_count": 418,
   "metadata": {},
   "outputs": [],
   "source": [
    "points_train = np.hstack([point1_noise_train, point2_noise_train])\n",
    "label = np.vstack([label_point1, label_point2])\n",
    "points_trainT = points_train.T\n",
    "points_test = np.hstack([point1_noise_test, point2_noise_test])\n",
    "points_testT = points_test.T"
   ]
  },
  {
   "cell_type": "code",
   "execution_count": 419,
   "metadata": {},
   "outputs": [],
   "source": [
    "(p,n) =points_trainT.shape"
   ]
  },
  {
   "cell_type": "markdown",
   "metadata": {},
   "source": [
    "### make w array for training"
   ]
  },
  {
   "cell_type": "code",
   "execution_count": 420,
   "metadata": {},
   "outputs": [],
   "source": [
    "w = np.zeros((n+1,1))\n",
    "ones = np.ones((p,1))"
   ]
  },
  {
   "cell_type": "code",
   "execution_count": 421,
   "metadata": {},
   "outputs": [],
   "source": [
    "points_trainT = np.hstack((ones,points_trainT))\n",
    "points_testT = np.hstack((ones,points_testT))"
   ]
  },
  {
   "cell_type": "markdown",
   "metadata": {},
   "source": [
    "### Define loss Function"
   ]
  },
  {
   "cell_type": "code",
   "execution_count": 422,
   "metadata": {},
   "outputs": [],
   "source": [
    "def lossFunc(w,X,Y):\n",
    "    m = len(Y)\n",
    "    result = (-1/m) * np.sum(np.multiply(Y,np.log(sigmoid(np.dot(X,w))))+np.multiply((1-Y), np.log(1-sigmoid(np.dot(X,w)))))    \n",
    "    return result"
   ]
  },
  {
   "cell_type": "markdown",
   "metadata": {},
   "source": [
    "### Define Accurcy Function"
   ]
  },
  {
   "cell_type": "code",
   "execution_count": 423,
   "metadata": {},
   "outputs": [],
   "source": [
    "def accuracy(X, w):\n",
    "    return sigmoid(np.dot(X,w)) >= 0.5"
   ]
  },
  {
   "cell_type": "code",
   "execution_count": 424,
   "metadata": {},
   "outputs": [],
   "source": [
    "loss_list = []\n",
    "loss_list_test = []\n",
    "accuracy_list = []\n",
    "accuracy_list_test = []"
   ]
  },
  {
   "cell_type": "markdown",
   "metadata": {},
   "source": [
    "### Implement gradientDescent"
   ]
  },
  {
   "cell_type": "code",
   "execution_count": 425,
   "metadata": {},
   "outputs": [],
   "source": [
    "def gradientDescent(X, Y, w, l_rate):  \n",
    "    m = len(Y)\n",
    "    iterations = 0\n",
    "    old = lossFunc(w,points_trainT,label)\n",
    "    test = lossFunc(w,points_testT,label)\n",
    "    accuracy_train = (accuracy(points_trainT,w) == label).sum() / len(label)\n",
    "    accuracy_test = (accuracy(points_testT,w) == label).sum() / len(label)\n",
    "    while(iterations<10000):\n",
    "        iterations += 1\n",
    "        loss_list.append(old)\n",
    "        loss_list_test.append(test)\n",
    "        accuracy_list.append(accuracy_train)\n",
    "        accuracy_list_test.append(accuracy_test)\n",
    "        w = w - (l_rate/m)*np.dot(X.T, sigmoid(np.dot(X,w))-Y)\n",
    "        old = lossFunc(w,points_trainT,label)\n",
    "        test = lossFunc(w,points_testT,label)\n",
    "        accuracy_train = (accuracy(points_trainT,w) == label).sum() / len(label)\n",
    "        accuracy_test = (accuracy(points_testT,w) == label).sum() / len(label)\n",
    "    return w"
   ]
  },
  {
   "cell_type": "markdown",
   "metadata": {},
   "source": [
    "### Apply GradientDescent Algorithm for training w"
   ]
  },
  {
   "cell_type": "code",
   "execution_count": 426,
   "metadata": {
    "scrolled": true
   },
   "outputs": [],
   "source": [
    "w = gradientDescent(points_trainT,label,w,0.05)"
   ]
  },
  {
   "cell_type": "markdown",
   "metadata": {},
   "source": [
    "### Plot loss at every iteration"
   ]
  },
  {
   "cell_type": "markdown",
   "metadata": {},
   "source": [
    "#### Training data set"
   ]
  },
  {
   "cell_type": "code",
   "execution_count": 427,
   "metadata": {
    "scrolled": true
   },
   "outputs": [
    {
     "data": {
      "text/plain": [
       "[<matplotlib.lines.Line2D at 0x213dcfa49b0>]"
      ]
     },
     "execution_count": 427,
     "metadata": {},
     "output_type": "execute_result"
    },
    {
     "data": {
      "image/png": "[encoded data removed]",
      "text/plain": [
       "<Figure size 432x288 with 1 Axes>"
      ]
     },
     "metadata": {
      "needs_background": "light"
     },
     "output_type": "display_data"
    }
   ],
   "source": [
    "plt.plot(loss_list, 'r')"
   ]
  },
  {
   "cell_type": "markdown",
   "metadata": {},
   "source": [
    "#### Test data set"
   ]
  },
  {
   "cell_type": "code",
   "execution_count": 428,
   "metadata": {
    "scrolled": true
   },
   "outputs": [
    {
     "data": {
      "text/plain": [
       "[<matplotlib.lines.Line2D at 0x213dcffafd0>]"
      ]
     },
     "execution_count": 428,
     "metadata": {},
     "output_type": "execute_result"
    },
    {
     "data": {
      "image/png": "[encoded data removed]",
      "text/plain": [
       "<Figure size 432x288 with 1 Axes>"
      ]
     },
     "metadata": {
      "needs_background": "light"
     },
     "output_type": "display_data"
    }
   ],
   "source": [
    "plt.plot(loss_list_test, 'b')"
   ]
  },
  {
   "cell_type": "markdown",
   "metadata": {},
   "source": [
    "### Plot Accuracy"
   ]
  },
  {
   "cell_type": "markdown",
   "metadata": {},
   "source": [
    "#### Training data set"
   ]
  },
  {
   "cell_type": "code",
   "execution_count": null,
   "metadata": {},
   "outputs": [],
   "source": [
    "plt.plot(accuracy_list, 'r')"
   ]
  },
  {
   "cell_type": "markdown",
   "metadata": {},
   "source": [
    "#### Test data set"
   ]
  },
  {
   "cell_type": "code",
   "execution_count": null,
   "metadata": {},
   "outputs": [],
   "source": [
    "plt.plot(accuracy_list_test, 'b')"
   ]
  },
  {
   "cell_type": "markdown",
   "metadata": {},
   "source": [
    "### Plot classifier"
   ]
  },
  {
   "cell_type": "code",
   "execution_count": 389,
   "metadata": {},
   "outputs": [],
   "source": [
    "def line(x):\n",
    "    return (-w[0] - (w[1]*x))/w[2]"
   ]
  },
  {
   "cell_type": "code",
   "execution_count": 404,
   "metadata": {},
   "outputs": [],
   "source": [
    "line_x = np.linspace(points_train[0].min(),points_train[0].max(),10)\n",
    "line_y = line(line_x)"
   ]
  },
  {
   "cell_type": "markdown",
   "metadata": {},
   "source": [
    "#### Apply to Training data set"
   ]
  },
  {
   "cell_type": "code",
   "execution_count": 405,
   "metadata": {
    "scrolled": true
   },
   "outputs": [
    {
     "data": {
      "text/plain": [
       "<matplotlib.collections.PathCollection at 0x213dd31da58>"
      ]
     },
     "execution_count": 405,
     "metadata": {},
     "output_type": "execute_result"
    },
    {
     "data": {
      "image/png": "[encoded data removed]",
      "text/plain": [
       "<Figure size 432x288 with 1 Axes>"
      ]
     },
     "metadata": {
      "needs_background": "light"
     },
     "output_type": "display_data"
    }
   ],
   "source": [
    "plt.plot(line_x,line_y)\n",
    "plt.scatter(point1[0],point1[1],s=30,c='k')\n",
    "plt.scatter(point2[0],point2[1],s=30,c='k')\n",
    "plt.scatter(point1_noise_train[0], point1_noise_train[1], s = 5, c='b')\n",
    "plt.scatter(point2_noise_train[0], point2_noise_train[1], s = 5, c='r')"
   ]
  },
  {
   "cell_type": "markdown",
   "metadata": {},
   "source": [
    "#### Apply to test dataset"
   ]
  },
  {
   "cell_type": "code",
   "execution_count": 406,
   "metadata": {},
   "outputs": [
    {
     "data": {
      "text/plain": [
       "<matplotlib.collections.PathCollection at 0x213dc66f160>"
      ]
     },
     "execution_count": 406,
     "metadata": {},
     "output_type": "execute_result"
    },
    {
     "data": {
      "image/png": "[encoded data removed]",
      "text/plain": [
       "<Figure size 432x288 with 1 Axes>"
      ]
     },
     "metadata": {
      "needs_background": "light"
     },
     "output_type": "display_data"
    }
   ],
   "source": [
    "plt.plot(line_x,line_y)\n",
    "plt.scatter(point1[0],point1[1],s=30,c='k')\n",
    "plt.scatter(point2[0],point2[1],s=30,c='k')\n",
    "plt.scatter(point1_noise_test[0], point1_noise_test[1], s = 5, c='c')\n",
    "plt.scatter(point2_noise_test[0], point2_noise_test[1], s = 5, c='g')"
   ]
  }
 ],
 "metadata": {
  "kernelspec": {
   "display_name": "PyTorch",
   "language": "python",
   "name": "torch"
  },
  "language_info": {
   "codemirror_mode": {
    "name": "ipython",
    "version": 3
   },
   "file_extension": ".py",
   "mimetype": "text/x-python",
   "name": "python",
   "nbconvert_exporter": "python",
   "pygments_lexer": "ipython3",
   "version": "3.6.9"
  }
 },
 "nbformat": 4,
 "nbformat_minor": 2
}
