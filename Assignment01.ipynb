{
 "cells": [
  {
   "cell_type": "markdown",
   "metadata": {},
   "source": [
    "# 20133807 Jeong Seong Woon"
   ]
  },
  {
   "cell_type": "code",
   "execution_count": 2,
   "metadata": {},
   "outputs": [],
   "source": [
    "import torch\n",
    "import numpy as np\n",
    "import matplotlib.pyplot as plt\n",
    "import random"
   ]
  },
  {
   "cell_type": "code",
   "execution_count": 25,
   "metadata": {},
   "outputs": [],
   "source": [
    "def noise(p,nx,ny):\n",
    "    s = np.empty((2,len(nx)),dtype=float)\n",
    "    for i in range(len(nx)):\n",
    "        s[0][i] = p[0] + nx[i]\n",
    "        s[1][i] = p[1] + ny[i]\n",
    "    return s"
   ]
  },
  {
   "cell_type": "code",
   "execution_count": 48,
   "metadata": {},
   "outputs": [
    {
     "data": {
      "text/plain": [
       "<matplotlib.collections.PathCollection at 0x1f059643048>"
      ]
     },
     "execution_count": 48,
     "metadata": {},
     "output_type": "execute_result"
    },
    {
     "data": {
      "image/png": "[encoded data removed]",
      "text/plain": [
       "<Figure size 432x288 with 1 Axes>"
      ]
     },
     "metadata": {
      "needs_background": "light"
     },
     "output_type": "display_data"
    }
   ],
   "source": [
    "np.random.seed(3)\n",
    "point1 = 10*np.random.rand(2)\n",
    "point2 = 10*np.random.rand(2)\n",
    "\n",
    "noise_num = 40\n",
    "p1_noise_train = np.random.normal(0,1,size = (2,noise_num))\n",
    "p2_noise_train = np.random.normal(0,1,size = (2,noise_num))\n",
    "p1_noise_test = np.random.normal(0,1,size = (2,noise_num))\n",
    "p2_noise_test = np.random.normal(0,1,size = (2,noise_num))\n",
    "\n",
    "\n",
    "point1_noise_train = noise(point1, p1_noise_train[0], p1_noise_train[1])\n",
    "point2_noise_train = noise(point2, p2_noise_train[0], p2_noise_train[1])\n",
    "point1_noise_test = noise(point1, p1_noise_test[0], p1_noise_test[1])\n",
    "point2_noise_test = noise(point2,p2_noise_test[0], p2_noise_test[1])\n",
    "\n",
    "label_point1 = np.zeros(noise_num)\n",
    "label_point2 = np.ones(noise_num)\n",
    "\n",
    " \n",
    "plt.scatter(point1[0],point1[1],s=30,c='k')\n",
    "plt.scatter(point2[0],point2[1],s=30,c='k')\n",
    "plt.scatter(point1_noise_train[0], point1_noise_train[1], s = 5, c='b')\n",
    "plt.scatter(point2_noise_train[0], point2_noise_train[1], s = 5, c='r')"
   ]
  },
  {
   "cell_type": "code",
   "execution_count": 40,
   "metadata": {
    "scrolled": false
   },
   "outputs": [
    {
     "data": {
      "text/plain": [
       "<matplotlib.collections.PathCollection at 0x1f059279128>"
      ]
     },
     "execution_count": 40,
     "metadata": {},
     "output_type": "execute_result"
    },
    {
     "data": {
      "image/png": "[encoded data removed]",
      "text/plain": [
       "<Figure size 432x288 with 1 Axes>"
      ]
     },
     "metadata": {
      "needs_background": "light"
     },
     "output_type": "display_data"
    }
   ],
   "source": [
    "plt.scatter(point1[0],point1[1],s=30,c='k')\n",
    "plt.scatter(point2[0],point2[1],s=30,c='k')\n",
    "plt.scatter(point1_noise_test[0], point1_noise_test[1], s = 5, c='c')\n",
    "plt.scatter(point2_noise_test[0], point2_noise_test[1], s = 5, c='g')"
   ]
  },
  {
   "cell_type": "code",
   "execution_count": 41,
   "metadata": {},
   "outputs": [],
   "source": [
    "def sigmoid(z):\n",
    "    return 1/(1+np.exp(-z))"
   ]
  },
  {
   "cell_type": "code",
   "execution_count": 51,
   "metadata": {},
   "outputs": [],
   "source": [
    "points_train = np.hstack([point1_noise_train, point2_noise_train])\n",
    "label = np.hstack([label_point1, label_point2])"
   ]
  },
  {
   "cell_type": "code",
   "execution_count": 43,
   "metadata": {},
   "outputs": [
    {
     "data": {
      "text/plain": [
       "(2, 40)"
      ]
     },
     "execution_count": 43,
     "metadata": {},
     "output_type": "execute_result"
    }
   ],
   "source": [
    "p1_noise_train.shape"
   ]
  }
 ],
 "metadata": {
  "kernelspec": {
   "display_name": "PyTorch",
   "language": "python",
   "name": "torch"
  },
  "language_info": {
   "codemirror_mode": {
    "name": "ipython",
    "version": 3
   },
   "file_extension": ".py",
   "mimetype": "text/x-python",
   "name": "python",
   "nbconvert_exporter": "python",
   "pygments_lexer": "ipython3",
   "version": "3.6.9"
  }
 },
 "nbformat": 4,
 "nbformat_minor": 2
}
