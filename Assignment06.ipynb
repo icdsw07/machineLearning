{
 "cells": [
  {
   "cell_type": "code",
   "execution_count": 1,
   "metadata": {},
   "outputs": [],
   "source": [
    "import torch\n",
    "from torch.utils.data import Dataset, DataLoader\n",
    "import torchvision.transforms as transforms\n",
    "import torchvision\n",
    "import os\n",
    "import numpy as np\n",
    "import matplotlib.pyplot as plt"
   ]
  },
  {
   "cell_type": "code",
   "execution_count": 2,
   "metadata": {},
   "outputs": [],
   "source": [
    "transform = transforms.Compose([transforms.Grayscale(), transforms.ToTensor(),])\n",
    "train_data_path = './horse-or-human/train'\n",
    "trainset = torchvision.datasets.ImageFolder(root=train_data_path, transform=transform)\n",
    "trainloader = torch.utils.data.DataLoader(trainset, batch_size=10, shuffle=False, num_workers=1)\n",
    "validation_data_path = './horse-or-human/validation'\n",
    "valset = torchvision.datasets.ImageFolder(root=validation_data_path, transform=transform)\n",
    "valloader = torch.utils.data.DataLoader(valset, batch_size=10, shuffle=False, num_workers=1)\n",
    "\n",
    "train_data = []\n",
    "train_label = []\n",
    "val_data = []\n",
    "val_label = []\n",
    "\n",
    "for i, data in enumerate(trainloader):\n",
    "    inputs, labels = data\n",
    "    train_data_batch = []\n",
    "    for j in range(len(inputs)):        \n",
    "        image_temp = inputs[j][0].numpy()\n",
    "        image = []\n",
    "        for k in range(len(image_temp)):\n",
    "            image_column = image_temp[:,k]\n",
    "            image_column = image_column.reshape((100,1))\n",
    "            if k==0:\n",
    "                image = image_column\n",
    "            else:\n",
    "                image = np.vstack((image,image_column))\n",
    "#         image = np.vstack((image, np.ones(1)))\n",
    "        if j == 0:\n",
    "            train_data_batch = image\n",
    "        else:\n",
    "            train_data_batch = np.hstack((train_data_batch,image))\n",
    "    if i == 0:\n",
    "        train_data = train_data_batch\n",
    "    else:\n",
    "        train_data = np.hstack((train_data,train_data_batch))\n",
    "    train_label = train_label+labels.tolist()\n",
    "train_label = np.array(train_label)\n",
    "train_label = train_label.reshape((len(train_label),1))\n",
    "\n",
    "for i, data in enumerate(valloader):\n",
    "    inputs, labels = data\n",
    "    val_data_batch = []\n",
    "    for j in range(len(inputs)):        \n",
    "        image_temp = inputs[j][0].numpy()\n",
    "        image = []\n",
    "        for k in range(len(image_temp)):\n",
    "            image_column = image_temp[:,k]\n",
    "            image_column = image_column.reshape((100,1))\n",
    "            if k==0:\n",
    "                image = image_column\n",
    "            else:\n",
    "                image = np.vstack((image,image_column))\n",
    "#         image = np.vstack((image, np.ones(1)))\n",
    "        if j == 0:\n",
    "            val_data_batch = image\n",
    "        else:\n",
    "            val_data_batch = np.hstack((val_data_batch,image))\n",
    "    if i == 0:\n",
    "        val_data = val_data_batch\n",
    "    else:\n",
    "        val_data = np.hstack((val_data,val_data_batch))\n",
    "    val_label = val_label+labels.tolist()\n",
    "val_label = np.array(val_label)\n",
    "val_label = val_label.reshape((len(val_label),1))"
   ]
  },
  {
   "cell_type": "code",
   "execution_count": 13,
   "metadata": {},
   "outputs": [
    {
     "data": {
      "text/plain": [
       "(1027, 1)"
      ]
     },
     "execution_count": 13,
     "metadata": {},
     "output_type": "execute_result"
    }
   ],
   "source": [
    "train_label.shape"
   ]
  },
  {
   "cell_type": "code",
   "execution_count": 3,
   "metadata": {},
   "outputs": [],
   "source": [
    "def sigmoid(x):\n",
    "    sig = 1/(1+np.exp(-x))\n",
    "    return sig"
   ]
  },
  {
   "cell_type": "code",
   "execution_count": 31,
   "metadata": {},
   "outputs": [],
   "source": [
    "def lossFunc(label, h):\n",
    "    m = len(label)\n",
    "    loss = (-1/m)*np.sum(label*np.log(sigmoid(h.T)) + (1-label)*np.log(1-sigmoid(h.T)))\n",
    "    return loss"
   ]
  },
  {
   "cell_type": "code",
   "execution_count": 167,
   "metadata": {},
   "outputs": [],
   "source": [
    "def accuracyFunc(h):\n",
    "    return h.T >= 0.5"
   ]
  },
  {
   "cell_type": "code",
   "execution_count": 187,
   "metadata": {},
   "outputs": [],
   "source": [
    "loss_list_train = []\n",
    "loss_list_val = []\n",
    "accuracy_list_train = []\n",
    "accuracy_list_val = []\n",
    "\n",
    "class deepNetwork:\n",
    "    def __init__(self, inputNode, hidden_1, hidden_2, learningrate, activation):\n",
    "        self.inodes = inputNode\n",
    "        self.h1 = hidden_1\n",
    "        self.h2 = hidden_2\n",
    "#         self.onodes = outputNode\n",
    "        self.lr = learningrate\n",
    "        self.af = activation\n",
    "        m = len(self.inodes[0]) #라벨개수\n",
    "        #가중치\n",
    "        np.random.seed(0)\n",
    "#         self.w1 = np.random.normal(0.0, pow(self.h1, -0.5),(len(self.inodes), self.h1))\n",
    "#         self.w2 = np.random.normal(0.0, pow(self.h2, -0.5),(self.h1, self.h2))\n",
    "#         self.w3 = np.random.normal(0.0, pow(1, -0.5),(self.h2, 1))\n",
    "        \n",
    "        \n",
    "        self.w1 = np.random.normal(size = (len(self.inodes), self.h1))\n",
    "        self.w2 = np.random.normal(size =(self.h1, self.h2))\n",
    "        self.w3 = np.random.normal(size =(self.h2, 1))\n",
    "        \n",
    "#         self.w1 = np.random.normal(0.0, 1,(len(self.inodes), self.h1))\n",
    "#         self.w2 = np.random.normal(0.0, 0.5,(self.h1, self.h2))\n",
    "#         self.w3 = np.random.normal(0.0, 0.2,(self.h2, 1))\n",
    "        \n",
    "#         self.b1 = np.random.normal(0.0, pow(self.h1,-0.5),(self.h1, m))\n",
    "#         self.b2 = np.random.normal(0.0, pow(self.h2, -0.5),(self.h2, m))\n",
    "#         self.b3 = np.random.normal(0.0, pow(1, -0.5),(1,m))\n",
    "        \n",
    "        self.b1 = np.random.normal(size = (self.h1, m))\n",
    "        self.b2 = np.random.normal(size = (self.h2, m))\n",
    "        self.b3 = np.random.normal(size = (1,m))\n",
    "    \n",
    "    def train(self, label):\n",
    "        iterations = 0\n",
    "        m = len(label)\n",
    "        loss_old = 0\n",
    "        while(True):\n",
    "            iterations+=1            \n",
    "            z1 = np.dot(self.w1.T, self.inodes) + self.b1\n",
    "            a1 = self.af(z1)\n",
    "\n",
    "            z2 = np.dot(self.w2.T, a1) + self.b2\n",
    "            a2 = self.af(z2) #(h2,1027)\n",
    "\n",
    "            z3 = np.dot(self.w3.T, a2)+self.b3            \n",
    "            a3 = self.af(z3) # 예측값 (1,1027)\n",
    "            \n",
    "            z1_val = np.dot(self.w1.T, val_data) + self.b1\n",
    "            a1_val = self.af(z1_val)\n",
    "\n",
    "            z2_val = np.dot(self.w2.T, a1) + self.b2\n",
    "            a2_val = self.af(z2_val) #(h2,1027)\n",
    "\n",
    "            z3_val = np.dot(self.w3.T, a2)+self.b3            \n",
    "            a3_val = self.af(z3_val) # 예측값 (1,1027)\n",
    "            \n",
    "            loss = lossFunc(label, a3) # 손실\n",
    "            loss_val = lossFunc(val_label,a3_val)\n",
    "            accuracy = (accuracyFunc(a3) == label).sum() / m\n",
    "            accuracy_val=(accuracyFunc(a3_val) == val_label).sum() / len(val_label)\n",
    "            print(\"accuracy\", accuracy)\n",
    "            if abs(loss_old-loss)< 1e-6:\n",
    "                break\n",
    "            loss_old = loss\n",
    "            loss_list_train.append(loss_old)\n",
    "            loss_list_val.append(loss_val)\n",
    "            accuracy_list_train.append(accuracy)\n",
    "            accuracy_list_val.append(accuracy_val)\n",
    "            \n",
    "            \n",
    "            print(\"#\",iterations,\": \",loss)\n",
    "            \n",
    "            # 가중치 업데이트\n",
    "            #w3:(h2,1) / w2:(h1,h2) / w1:(10000,h1)\n",
    "            w3_update = -label.T + a3  #(1,1027)\n",
    "            w2_update = np.dot(np.dot(np.dot(w3_update.T, self.w3.T), a2), (1-a2).T) # (1027,h2)            \n",
    "            w1_update = np.dot(np.dot(np.dot(w2_update, self.w2.T), a1), (1-a1).T) #(1027, h1)\n",
    "            self.w3 = self.w3 -(self.lr/m)*np.dot(w3_update, a2.T).T\n",
    "            self.w2 = self.w2 -(self.lr/m)*np.dot(w2_update.T, a1.T).T\n",
    "            self.w1 = self.w1 -(self.lr/m)*np.dot(w1_update.T, self.inodes.T).T\n",
    "            \n",
    "            self.b3 = self.b3 - (self.lr/m)*w3_update\n",
    "            self.b2 = self.b2 - (self.lr/m)*w2_update.T\n",
    "            self.b1 = self.b1 - (self.lr/m)*w1_update.T\n",
    "#             if iterations == 10:\n",
    "#                 break"
   ]
  },
  {
   "cell_type": "code",
   "execution_count": 188,
   "metadata": {
    "scrolled": false
   },
   "outputs": [
    {
     "ename": "ValueError",
     "evalue": "operands could not be broadcast together with shapes (80,256) (80,1027) ",
     "output_type": "error",
     "traceback": [
      "\u001b[1;31m---------------------------------------------------------------------------\u001b[0m",
      "\u001b[1;31mValueError\u001b[0m                                Traceback (most recent call last)",
      "\u001b[1;32m<ipython-input-188-2b6f03e29975>\u001b[0m in \u001b[0;36m<module>\u001b[1;34m\u001b[0m\n\u001b[0;32m      4\u001b[0m \u001b[0maccuracy_list_val\u001b[0m \u001b[1;33m=\u001b[0m \u001b[1;33m[\u001b[0m\u001b[1;33m]\u001b[0m\u001b[1;33m\u001b[0m\u001b[1;33m\u001b[0m\u001b[0m\n\u001b[0;32m      5\u001b[0m \u001b[0mn\u001b[0m \u001b[1;33m=\u001b[0m \u001b[0mdeepNetwork\u001b[0m\u001b[1;33m(\u001b[0m\u001b[0mtrain_data\u001b[0m\u001b[1;33m,\u001b[0m \u001b[1;36m80\u001b[0m\u001b[1;33m,\u001b[0m \u001b[1;36m20\u001b[0m\u001b[1;33m,\u001b[0m \u001b[1;36m0.01\u001b[0m\u001b[1;33m,\u001b[0m \u001b[0msigmoid\u001b[0m\u001b[1;33m)\u001b[0m\u001b[1;33m\u001b[0m\u001b[1;33m\u001b[0m\u001b[0m\n\u001b[1;32m----> 6\u001b[1;33m \u001b[0mn\u001b[0m\u001b[1;33m.\u001b[0m\u001b[0mtrain\u001b[0m\u001b[1;33m(\u001b[0m\u001b[0mtrain_label\u001b[0m\u001b[1;33m)\u001b[0m\u001b[1;33m\u001b[0m\u001b[1;33m\u001b[0m\u001b[0m\n\u001b[0m",
      "\u001b[1;32m<ipython-input-187-2c33f40576dc>\u001b[0m in \u001b[0;36mtrain\u001b[1;34m(self, label)\u001b[0m\n\u001b[0;32m     51\u001b[0m             \u001b[0ma3\u001b[0m \u001b[1;33m=\u001b[0m \u001b[0mself\u001b[0m\u001b[1;33m.\u001b[0m\u001b[0maf\u001b[0m\u001b[1;33m(\u001b[0m\u001b[0mz3\u001b[0m\u001b[1;33m)\u001b[0m \u001b[1;31m# 예측값 (1,1027)\u001b[0m\u001b[1;33m\u001b[0m\u001b[1;33m\u001b[0m\u001b[0m\n\u001b[0;32m     52\u001b[0m \u001b[1;33m\u001b[0m\u001b[0m\n\u001b[1;32m---> 53\u001b[1;33m             \u001b[0mz1_val\u001b[0m \u001b[1;33m=\u001b[0m \u001b[0mnp\u001b[0m\u001b[1;33m.\u001b[0m\u001b[0mdot\u001b[0m\u001b[1;33m(\u001b[0m\u001b[0mself\u001b[0m\u001b[1;33m.\u001b[0m\u001b[0mw1\u001b[0m\u001b[1;33m.\u001b[0m\u001b[0mT\u001b[0m\u001b[1;33m,\u001b[0m \u001b[0mval_data\u001b[0m\u001b[1;33m)\u001b[0m \u001b[1;33m+\u001b[0m \u001b[0mself\u001b[0m\u001b[1;33m.\u001b[0m\u001b[0mb1\u001b[0m\u001b[1;33m\u001b[0m\u001b[1;33m\u001b[0m\u001b[0m\n\u001b[0m\u001b[0;32m     54\u001b[0m             \u001b[0ma1_val\u001b[0m \u001b[1;33m=\u001b[0m \u001b[0mself\u001b[0m\u001b[1;33m.\u001b[0m\u001b[0maf\u001b[0m\u001b[1;33m(\u001b[0m\u001b[0mz1_val\u001b[0m\u001b[1;33m)\u001b[0m\u001b[1;33m\u001b[0m\u001b[1;33m\u001b[0m\u001b[0m\n\u001b[0;32m     55\u001b[0m \u001b[1;33m\u001b[0m\u001b[0m\n",
      "\u001b[1;31mValueError\u001b[0m: operands could not be broadcast together with shapes (80,256) (80,1027) "
     ]
    }
   ],
   "source": [
    "loss_list_train = []\n",
    "loss_list_val = []\n",
    "accuracy_list_train = []\n",
    "accuracy_list_val = []\n",
    "n = deepNetwork(train_data, 80, 20, 0.01, sigmoid)\n",
    "n.train(train_label)"
   ]
  },
  {
   "cell_type": "code",
   "execution_count": 183,
   "metadata": {},
   "outputs": [
    {
     "data": {
      "image/png": "[encoded data removed]",
      "text/plain": [
       "<Figure size 432x288 with 1 Axes>"
      ]
     },
     "metadata": {
      "needs_background": "light"
     },
     "output_type": "display_data"
    }
   ],
   "source": [
    "plt.plot(loss_list_train,label='training',color= 'r')\n",
    "# plt.plot(loss_list_val,label='validation',color = 'b')\n",
    "plt.legend()\n",
    "plt.show()"
   ]
  },
  {
   "cell_type": "code",
   "execution_count": 184,
   "metadata": {},
   "outputs": [
    {
     "data": {
      "image/png": "[encoded data removed]",
      "text/plain": [
       "<Figure size 432x288 with 1 Axes>"
      ]
     },
     "metadata": {
      "needs_background": "light"
     },
     "output_type": "display_data"
    }
   ],
   "source": [
    "plt.plot(accuracy_list_train,label='training', color='r')\n",
    "# plt.plot(accuracy_list_val,label='validation',color='b')\n",
    "plt.legend()\n",
    "plt.show()"
   ]
  }
 ],
 "metadata": {
  "kernelspec": {
   "display_name": "PyTorch",
   "language": "python",
   "name": "torch"
  },
  "language_info": {
   "codemirror_mode": {
    "name": "ipython",
    "version": 3
   },
   "file_extension": ".py",
   "mimetype": "text/x-python",
   "name": "python",
   "nbconvert_exporter": "python",
   "pygments_lexer": "ipython3",
   "version": "3.6.9"
  }
 },
 "nbformat": 4,
 "nbformat_minor": 2
}
