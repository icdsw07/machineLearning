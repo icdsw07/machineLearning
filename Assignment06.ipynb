{
 "cells": [
  {
   "cell_type": "markdown",
   "metadata": {},
   "source": [
    "# 20133807 Jeong Seong Woon"
   ]
  },
  {
   "cell_type": "code",
   "execution_count": 230,
   "metadata": {},
   "outputs": [],
   "source": [
    "import torch\n",
    "from torch.utils.data import Dataset, DataLoader\n",
    "import torchvision.transforms as transforms\n",
    "import torchvision\n",
    "import os\n",
    "import numpy as np\n",
    "import matplotlib.pyplot as plt\n",
    "from pandas import Series, DataFrame\n",
    "import pandas as pd"
   ]
  },
  {
   "cell_type": "markdown",
   "metadata": {},
   "source": [
    "## Load data & Convert Image data to matrix for calculating"
   ]
  },
  {
   "cell_type": "code",
   "execution_count": 232,
   "metadata": {},
   "outputs": [],
   "source": [
    "transform = transforms.Compose([transforms.Grayscale(), transforms.ToTensor(),])\n",
    "train_data_path = './horse-or-human/train'\n",
    "trainset = torchvision.datasets.ImageFolder(root=train_data_path, transform=transform)\n",
    "trainloader = torch.utils.data.DataLoader(trainset, batch_size=10, shuffle=False, num_workers=1)\n",
    "validation_data_path = './horse-or-human/validation'\n",
    "valset = torchvision.datasets.ImageFolder(root=validation_data_path, transform=transform)\n",
    "valloader = torch.utils.data.DataLoader(valset, batch_size=10, shuffle=False, num_workers=1)\n",
    "\n",
    "train_data = []\n",
    "train_label = []\n",
    "val_data = []\n",
    "val_label = []\n",
    "\n",
    "for i, data in enumerate(trainloader):\n",
    "    inputs, labels = data\n",
    "    train_data_batch = []\n",
    "    for j in range(len(inputs)):        \n",
    "        image_temp = inputs[j][0].numpy()\n",
    "        image = []\n",
    "        for k in range(len(image_temp)):\n",
    "            image_column = image_temp[:,k]\n",
    "            image_column = image_column.reshape((100,1))\n",
    "            if k==0:\n",
    "                image = image_column\n",
    "            else:\n",
    "                image = np.vstack((image,image_column))\n",
    "        if j == 0:\n",
    "            train_data_batch = image\n",
    "        else:\n",
    "            train_data_batch = np.hstack((train_data_batch,image))\n",
    "    if i == 0:\n",
    "        train_data = train_data_batch\n",
    "    else:\n",
    "        train_data = np.hstack((train_data,train_data_batch))\n",
    "    train_label = train_label+labels.tolist()\n",
    "train_label = np.array(train_label)\n",
    "train_label = train_label.reshape((len(train_label),1))\n",
    "\n",
    "for i, data in enumerate(valloader):\n",
    "    inputs, labels = data\n",
    "    val_data_batch = []\n",
    "    for j in range(len(inputs)):        \n",
    "        image_temp = inputs[j][0].numpy()\n",
    "        image = []\n",
    "        for k in range(len(image_temp)):\n",
    "            image_column = image_temp[:,k]\n",
    "            image_column = image_column.reshape((100,1))\n",
    "            if k==0:\n",
    "                image = image_column\n",
    "            else:\n",
    "                image = np.vstack((image,image_column))\n",
    "        if j == 0:\n",
    "            val_data_batch = image\n",
    "        else:\n",
    "            val_data_batch = np.hstack((val_data_batch,image))\n",
    "    if i == 0:\n",
    "        val_data = val_data_batch\n",
    "    else:\n",
    "        val_data = np.hstack((val_data,val_data_batch))\n",
    "    val_label = val_label+labels.tolist()\n",
    "val_label = np.array(val_label)\n",
    "val_label = val_label.reshape((len(val_label),1))"
   ]
  },
  {
   "cell_type": "markdown",
   "metadata": {},
   "source": [
    "## Define Sigmoid function"
   ]
  },
  {
   "cell_type": "code",
   "execution_count": 233,
   "metadata": {},
   "outputs": [],
   "source": [
    "def sigmoid(x):\n",
    "    sig = 1/(1+np.exp(-x))\n",
    "    return sig"
   ]
  },
  {
   "cell_type": "markdown",
   "metadata": {},
   "source": [
    "## Define Loss function with Regularization"
   ]
  },
  {
   "cell_type": "code",
   "execution_count": 256,
   "metadata": {},
   "outputs": [],
   "source": [
    "def lossFunc(label, h, w1, w2, w3, reg_rate):\n",
    "    m = len(label)\n",
    "    n = len(train_data)\n",
    "    loss = (-1/m)*np.sum(label*np.log(sigmoid(h.T)) + (1-label)*np.log(1-sigmoid(h.T)))\n",
    "    reg = (reg_rate/(2*n))*(np.sum(w1**2)+np.sum(w2**2)+np.sum(w3**2))\n",
    "    return reg+loss"
   ]
  },
  {
   "cell_type": "markdown",
   "metadata": {},
   "source": [
    "## Define Accuracy function"
   ]
  },
  {
   "cell_type": "code",
   "execution_count": 235,
   "metadata": {},
   "outputs": [],
   "source": [
    "def accuracyFunc(h):\n",
    "    return h.T >= 0.5"
   ]
  },
  {
   "cell_type": "markdown",
   "metadata": {},
   "source": [
    "## Define Neural Netwokr Class with GradientDescent  through Vectorizing"
   ]
  },
  {
   "cell_type": "code",
   "execution_count": 288,
   "metadata": {},
   "outputs": [],
   "source": [
    "loss_list_train = []\n",
    "loss_list_val = []\n",
    "accuracy_list_train = []\n",
    "accuracy_list_val = []\n",
    "\n",
    "class deepNetwork:\n",
    "    def __init__(self, inputNode, hidden_1, hidden_2, learningrate, activation, reg_rate):\n",
    "        self.inodes = inputNode\n",
    "        self.h1 = hidden_1\n",
    "        self.h2 = hidden_2\n",
    "\n",
    "        self.lr = learningrate\n",
    "        self.af = activation\n",
    "        self.rr = reg_rate\n",
    "        m = len(self.inodes[0]) #라벨개수\n",
    "        #가중치\n",
    "        np.random.seed(0)\n",
    "        # 초기화\n",
    "        self.w1 = np.random.normal(0.0, pow(self.h1, -0.5),(len(self.inodes), self.h1))\n",
    "        self.w2 = np.random.normal(0.0, pow(self.h2, -0.5),(self.h1, self.h2))\n",
    "        self.w3 = np.random.normal(0.0, pow(1, -0.5),(self.h2, 1))        \n",
    "        \n",
    "#         self.w1 = np.random.normal(size = (len(self.inodes), self.h1))\n",
    "#         self.w2 = np.random.normal(size =(self.h1, self.h2))\n",
    "#         self.w3 = np.random.normal(size =(self.h2, 1))\n",
    "            \n",
    "        self.b1 = 0.5\n",
    "        self.b2 = 0.5\n",
    "        self.b3 = 0.5\n",
    "        \n",
    "        self.b1_val = 0.5\n",
    "        self.b2_val = 0.5\n",
    "        self.b3_val = 0.5\n",
    "    \n",
    "    def train(self, label):\n",
    "        iterations = 0\n",
    "        m = len(label)\n",
    "        loss_old = 0\n",
    "        while(True):\n",
    "            iterations+=1            \n",
    "            z1 = np.dot(self.w1.T, self.inodes) + self.b1\n",
    "            a1 = self.af(z1)\n",
    "\n",
    "            z2 = np.dot(self.w2.T, a1) + self.b2\n",
    "            a2 = self.af(z2) #(h2,1027)\n",
    "\n",
    "            z3 = np.dot(self.w3.T, a2)+self.b3            \n",
    "            a3 = self.af(z3) # 예측값 (1,1027)\n",
    "                        \n",
    "            \n",
    "            z1_val = np.dot(self.w1.T, val_data)+self.b1_val\n",
    "#             z1_val = np.dot(self.w1.T, val_data)\n",
    "            a1_val = self.af(z1_val)\n",
    "\n",
    "            z2_val = np.dot(self.w2.T, a1_val)+ self.b2_val\n",
    "#             z2_val = np.dot(self.w2.T, a1_val)\n",
    "            a2_val = self.af(z2_val) \n",
    "\n",
    "            z3_val = np.dot(self.w3.T, a2_val) +self.b3_val  \n",
    "#             z3_val = np.dot(self.w3.T, a2_val) \n",
    "            a3_val = self.af(z3_val) \n",
    "            \n",
    "            # 손실함수에 regularisation 추가\n",
    "            loss = lossFunc(label, a3, self.w1, self.w2, self.w3, self.rr) \n",
    "            loss_val = lossFunc(val_label,a3_val,self.w1, self.w2, self.w3, self.rr)\n",
    "            accuracy = (accuracyFunc(a3) == label).sum() / m\n",
    "            accuracy_val=(accuracyFunc(a3_val) == val_label).sum() / len(val_label)\n",
    "            \n",
    "            if abs(loss_old-loss)< 1e-4:\n",
    "                break\n",
    "\n",
    "            loss_old = loss\n",
    "            loss_list_train.append(loss_old)\n",
    "            loss_list_val.append(loss_val)\n",
    "            accuracy_list_train.append(accuracy)\n",
    "            accuracy_list_val.append(accuracy_val)\n",
    "            \n",
    "            # 가중치 업데이트에 regularisation 추가\n",
    "            #w3:(h2,1) / w2:(h1,h2) / w1:(10000,h1)\n",
    "            w3_update = -label.T + a3  #(1,1027)\n",
    "            w2_update = np.dot(w3_update.T, self.w3.T).T * (a2*(1-a2)) #(h2,1027) \n",
    "            w1_update = np.dot(w2_update.T, self.w2.T).T * (a1*(1-a1)) #(h1, 1027)\n",
    "            \n",
    "            w3_update_val = -val_label.T + a3_val  #(1,1027)\n",
    "            w2_update_val = np.dot(w3_update_val.T, self.w3.T).T * (a2_val*(1-a2_val)) #(h2,1027) \n",
    "            w1_update_val = np.dot(w2_update_val.T, self.w2.T).T * (a1_val*(1-a1_val)) #(h1, 1027)\n",
    "\n",
    "            self.w3 = (1-self.lr*self.rr/m)*self.w3 -(self.lr/m)*np.dot(w3_update, a2.T).T\n",
    "            self.w2 = (1-self.lr*self.rr/m)*self.w2 -(self.lr/m)*np.dot(w2_update, a1.T).T\n",
    "            self.w1 = (1-self.lr*self.rr/m)*self.w1 -(self.lr/m)*np.dot(w1_update, self.inodes.T).T\n",
    "            \n",
    "            self.b3 = (1-self.lr*self.rr/m)*self.b3 - (self.lr/m)*w3_update\n",
    "            self.b2 = (1-self.lr*self.rr/m)*self.b2 - (self.lr/m)*w2_update\n",
    "            self.b1 = (1-self.lr*self.rr/m)*self.b1 - (self.lr/m)*w1_update\n",
    "            \n",
    "            self.b3_val = (1-self.lr*self.rr/m)*self.b3_val - (self.lr/m)*w3_update_val\n",
    "            self.b2_val = (1-self.lr*self.rr/m)*self.b2_val - (self.lr/m)*w2_update_val\n",
    "            self.b1_val = (1-self.lr*self.rr/m)*self.b1_val - (self.lr/m)*w1_update_val"
   ]
  },
  {
   "cell_type": "markdown",
   "metadata": {},
   "source": [
    "## Bias"
   ]
  },
  {
   "cell_type": "code",
   "execution_count": 287,
   "metadata": {},
   "outputs": [
    {
     "data": {
      "image/png": "[encoded data removed]",
      "text/plain": [
       "<Figure size 432x288 with 1 Axes>"
      ]
     },
     "metadata": {
      "needs_background": "light"
     },
     "output_type": "display_data"
    },
    {
     "data": {
      "image/png": "[encoded data removed]",
      "text/plain": [
       "<Figure size 432x288 with 1 Axes>"
      ]
     },
     "metadata": {
      "needs_background": "light"
     },
     "output_type": "display_data"
    },
    {
     "data": {
      "text/html": [
       "<div>\n",
       "<style scoped>\n",
       "    .dataframe tbody tr th:only-of-type {\n",
       "        vertical-align: middle;\n",
       "    }\n",
       "\n",
       "    .dataframe tbody tr th {\n",
       "        vertical-align: top;\n",
       "    }\n",
       "\n",
       "    .dataframe thead th {\n",
       "        text-align: right;\n",
       "    }\n",
       "</style>\n",
       "<table border=\"1\" class=\"dataframe\">\n",
       "  <thead>\n",
       "    <tr style=\"text-align: right;\">\n",
       "      <th></th>\n",
       "      <th>Loss</th>\n",
       "      <th>Accruacy</th>\n",
       "    </tr>\n",
       "  </thead>\n",
       "  <tbody>\n",
       "    <tr>\n",
       "      <td>Training</td>\n",
       "      <td>1.426733</td>\n",
       "      <td>0.985394</td>\n",
       "    </tr>\n",
       "    <tr>\n",
       "      <td>Validation</td>\n",
       "      <td>1.458685</td>\n",
       "      <td>0.871094</td>\n",
       "    </tr>\n",
       "  </tbody>\n",
       "</table>\n",
       "</div>"
      ],
      "text/plain": [
       "                Loss  Accruacy\n",
       "Training    1.426733  0.985394\n",
       "Validation  1.458685  0.871094"
      ]
     },
     "execution_count": 287,
     "metadata": {},
     "output_type": "execute_result"
    }
   ],
   "source": [
    "loss_list_train = []\n",
    "loss_list_val = []\n",
    "accuracy_list_train = []\n",
    "accuracy_list_val = []\n",
    "n = deepNetwork(train_data, 80, 20, 0.05, sigmoid, 10)\n",
    "n.train(train_label)\n",
    "\n",
    "plt.figure(1)\n",
    "plt.plot(loss_list_train,label='loss_training',color= 'r')\n",
    "plt.plot(loss_list_val,label='loss_validation',color = 'b')\n",
    "plt.legend()\n",
    "\n",
    "plt.figure(2)\n",
    "plt.plot(accuracy_list_train,label='accuracy_training', color='r')\n",
    "plt.plot(accuracy_list_val,label='accuracy_validation',color='b')\n",
    "plt.legend()\n",
    "plt.show()\n",
    "\n",
    "data = [[loss_list_train[-1], accuracy_list_train[-1]],\n",
    "        [loss_list_val[-1], accuracy_list_val[-1]]]\n",
    "frame = pd.DataFrame(data, columns = ['Loss','Accruacy'],\n",
    "                        index = ['Training','Validation'])\n",
    "frame"
   ]
  },
  {
   "cell_type": "markdown",
   "metadata": {},
   "source": [
    "## Variance"
   ]
  },
  {
   "cell_type": "code",
   "execution_count": 285,
   "metadata": {
    "scrolled": false
   },
   "outputs": [
    {
     "data": {
      "image/png": "[encoded data removed]",
      "text/plain": [
       "<Figure size 432x288 with 1 Axes>"
      ]
     },
     "metadata": {
      "needs_background": "light"
     },
     "output_type": "display_data"
    },
    {
     "data": {
      "image/png": "[encoded data removed]",
      "text/plain": [
       "<Figure size 432x288 with 1 Axes>"
      ]
     },
     "metadata": {
      "needs_background": "light"
     },
     "output_type": "display_data"
    },
    {
     "data": {
      "text/html": [
       "<div>\n",
       "<style scoped>\n",
       "    .dataframe tbody tr th:only-of-type {\n",
       "        vertical-align: middle;\n",
       "    }\n",
       "\n",
       "    .dataframe tbody tr th {\n",
       "        vertical-align: top;\n",
       "    }\n",
       "\n",
       "    .dataframe thead th {\n",
       "        text-align: right;\n",
       "    }\n",
       "</style>\n",
       "<table border=\"1\" class=\"dataframe\">\n",
       "  <thead>\n",
       "    <tr style=\"text-align: right;\">\n",
       "      <th></th>\n",
       "      <th>Loss</th>\n",
       "      <th>Accruacy</th>\n",
       "    </tr>\n",
       "  </thead>\n",
       "  <tbody>\n",
       "    <tr>\n",
       "      <td>Training</td>\n",
       "      <td>0.658731</td>\n",
       "      <td>0.874391</td>\n",
       "    </tr>\n",
       "    <tr>\n",
       "      <td>Validation</td>\n",
       "      <td>0.645698</td>\n",
       "      <td>0.875000</td>\n",
       "    </tr>\n",
       "  </tbody>\n",
       "</table>\n",
       "</div>"
      ],
      "text/plain": [
       "                Loss  Accruacy\n",
       "Training    0.658731  0.874391\n",
       "Validation  0.645698  0.875000"
      ]
     },
     "execution_count": 285,
     "metadata": {},
     "output_type": "execute_result"
    }
   ],
   "source": [
    "loss_list_train = []\n",
    "loss_list_val = []\n",
    "accuracy_list_train = []\n",
    "accuracy_list_val = []\n",
    "n = deepNetwork(train_data, 80, 20, 0.05, sigmoid, 0.1)\n",
    "n.train(train_label)\n",
    "\n",
    "plt.figure(1)\n",
    "plt.plot(loss_list_train,label='loss_training',color= 'r')\n",
    "plt.plot(loss_list_val,label='loss_validation',color = 'b')\n",
    "plt.legend()\n",
    "\n",
    "plt.figure(2)\n",
    "plt.plot(accuracy_list_train,label='accuracy_training', color='r')\n",
    "plt.plot(accuracy_list_val,label='accuracy_validation',color='b')\n",
    "plt.legend()\n",
    "plt.show()\n",
    "\n",
    "data = [[loss_list_train[-1], accuracy_list_train[-1]],\n",
    "        [loss_list_val[-1], accuracy_list_val[-1]]]\n",
    "frame = pd.DataFrame(data, columns = ['Loss','Accruacy'],\n",
    "                        index = ['Training','Validation'])\n",
    "frame"
   ]
  },
  {
   "cell_type": "markdown",
   "metadata": {},
   "source": [
    "## Best Generalization"
   ]
  },
  {
   "cell_type": "code",
   "execution_count": 289,
   "metadata": {},
   "outputs": [
    {
     "data": {
      "image/png": "[encoded data removed]",
      "text/plain": [
       "<Figure size 432x288 with 1 Axes>"
      ]
     },
     "metadata": {
      "needs_background": "light"
     },
     "output_type": "display_data"
    },
    {
     "data": {
      "image/png": "[encoded data removed]",
      "text/plain": [
       "<Figure size 432x288 with 1 Axes>"
      ]
     },
     "metadata": {
      "needs_background": "light"
     },
     "output_type": "display_data"
    },
    {
     "data": {
      "text/html": [
       "<div>\n",
       "<style scoped>\n",
       "    .dataframe tbody tr th:only-of-type {\n",
       "        vertical-align: middle;\n",
       "    }\n",
       "\n",
       "    .dataframe tbody tr th {\n",
       "        vertical-align: top;\n",
       "    }\n",
       "\n",
       "    .dataframe thead th {\n",
       "        text-align: right;\n",
       "    }\n",
       "</style>\n",
       "<table border=\"1\" class=\"dataframe\">\n",
       "  <thead>\n",
       "    <tr style=\"text-align: right;\">\n",
       "      <th></th>\n",
       "      <th>Loss</th>\n",
       "      <th>Accruacy</th>\n",
       "    </tr>\n",
       "  </thead>\n",
       "  <tbody>\n",
       "    <tr>\n",
       "      <td>Training</td>\n",
       "      <td>0.613788</td>\n",
       "      <td>0.872444</td>\n",
       "    </tr>\n",
       "    <tr>\n",
       "      <td>Validation</td>\n",
       "      <td>0.600563</td>\n",
       "      <td>0.875000</td>\n",
       "    </tr>\n",
       "  </tbody>\n",
       "</table>\n",
       "</div>"
      ],
      "text/plain": [
       "                Loss  Accruacy\n",
       "Training    0.613788  0.872444\n",
       "Validation  0.600563  0.875000"
      ]
     },
     "execution_count": 289,
     "metadata": {},
     "output_type": "execute_result"
    }
   ],
   "source": [
    "loss_list_train = []\n",
    "loss_list_val = []\n",
    "accuracy_list_train = []\n",
    "accuracy_list_val = []\n",
    "n = deepNetwork(train_data, 80, 20, 0.05, sigmoid, 0.01)\n",
    "n.train(train_label)\n",
    "\n",
    "plt.figure(1)\n",
    "plt.plot(loss_list_train,label='loss_training',color= 'r')\n",
    "plt.plot(loss_list_val,label='loss_validation',color = 'b')\n",
    "plt.legend()\n",
    "\n",
    "plt.figure(2)\n",
    "plt.plot(accuracy_list_train,label='accuracy_training', color='r')\n",
    "plt.plot(accuracy_list_val,label='accuracy_validation',color='b')\n",
    "plt.legend()\n",
    "plt.show()\n",
    "\n",
    "data = [[loss_list_train[-1], accuracy_list_train[-1]],\n",
    "        [loss_list_val[-1], accuracy_list_val[-1]]]\n",
    "frame = pd.DataFrame(data, columns = ['Loss','Accruacy'],\n",
    "                        index = ['Training','Validation'])\n",
    "frame"
   ]
  }
 ],
 "metadata": {
  "kernelspec": {
   "display_name": "PyTorch",
   "language": "python",
   "name": "torch"
  },
  "language_info": {
   "codemirror_mode": {
    "name": "ipython",
    "version": 3
   },
   "file_extension": ".py",
   "mimetype": "text/x-python",
   "name": "python",
   "nbconvert_exporter": "python",
   "pygments_lexer": "ipython3",
   "version": "3.6.9"
  }
 },
 "nbformat": 4,
 "nbformat_minor": 2
}
