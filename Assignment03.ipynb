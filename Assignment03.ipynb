{
 "cells": [
  {
   "cell_type": "markdown",
   "metadata": {},
   "source": [
    "# 20133807 Jeong Seong Woon"
   ]
  },
  {
   "cell_type": "code",
   "execution_count": 18,
   "metadata": {},
   "outputs": [],
   "source": [
    "import torch\n",
    "from torch.utils.data import Dataset, DataLoader\n",
    "import torchvision.transforms as transforms\n",
    "import torchvision\n",
    "import os\n",
    "import numpy as np\n",
    "import matplotlib.pyplot as plt"
   ]
  },
  {
   "cell_type": "markdown",
   "metadata": {},
   "source": [
    "## Load data"
   ]
  },
  {
   "cell_type": "code",
   "execution_count": 19,
   "metadata": {},
   "outputs": [],
   "source": [
    "transform = transforms.Compose([transforms.Grayscale(), transforms.ToTensor(),])"
   ]
  },
  {
   "cell_type": "code",
   "execution_count": 20,
   "metadata": {},
   "outputs": [],
   "source": [
    "train_data_path = './horse-or-human/train'\n",
    "trainset = torchvision.datasets.ImageFolder(root=train_data_path, transform=transform)\n",
    "trainloader = torch.utils.data.DataLoader(trainset, batch_size=10, shuffle=False, num_workers=1)\n",
    "validation_data_path = './horse-or-human/validation'\n",
    "valset = torchvision.datasets.ImageFolder(root=validation_data_path, transform=transform)\n",
    "valloader = torch.utils.data.DataLoader(valset, batch_size=10, shuffle=False, num_workers=1)"
   ]
  },
  {
   "cell_type": "markdown",
   "metadata": {},
   "source": [
    "## Convert Image data to matrix for calculating"
   ]
  },
  {
   "cell_type": "code",
   "execution_count": 21,
   "metadata": {
    "scrolled": true
   },
   "outputs": [],
   "source": [
    "train_data = []\n",
    "train_label = []\n",
    "val_data = []\n",
    "val_label = []\n",
    "\n",
    "for i, data in enumerate(trainloader):\n",
    "    inputs, labels = data\n",
    "    train_data_batch = []\n",
    "    for j in range(len(inputs)):        \n",
    "        image_temp = inputs[j][0].numpy()\n",
    "        image = []\n",
    "        for k in range(len(image_temp)):\n",
    "            image_column = image_temp[:,k]\n",
    "            image_column = image_column.reshape((100,1))\n",
    "            if k==0:\n",
    "                image = image_column\n",
    "            else:\n",
    "                image = np.vstack((image,image_column))\n",
    "        image = np.vstack((image, np.ones(1)))\n",
    "        if j == 0:\n",
    "            train_data_batch = image\n",
    "        else:\n",
    "            train_data_batch = np.hstack((train_data_batch,image))\n",
    "    if i == 0:\n",
    "        train_data = train_data_batch\n",
    "    else:\n",
    "        train_data = np.hstack((train_data,train_data_batch))\n",
    "    train_label = train_label+labels.tolist()\n",
    "train_label = np.array(train_label)\n",
    "train_label = train_label.reshape((len(train_label),1))\n",
    "\n",
    "for i, data in enumerate(valloader):\n",
    "    inputs, labels = data\n",
    "    val_data_batch = []\n",
    "    for j in range(len(inputs)):        \n",
    "        image_temp = inputs[j][0].numpy()\n",
    "        image = []\n",
    "        for k in range(len(image_temp)):\n",
    "            image_column = image_temp[:,k]\n",
    "            image_column = image_column.reshape((100,1))\n",
    "            if k==0:\n",
    "                image = image_column\n",
    "            else:\n",
    "                image = np.vstack((image,image_column))\n",
    "        image = np.vstack((image, np.ones(1)))\n",
    "        if j == 0:\n",
    "            val_data_batch = image\n",
    "        else:\n",
    "            val_data_batch = np.hstack((val_data_batch,image))\n",
    "    if i == 0:\n",
    "        val_data = val_data_batch\n",
    "    else:\n",
    "        val_data = np.hstack((val_data,val_data_batch))\n",
    "    val_label = val_label+labels.tolist()\n",
    "val_label = np.array(val_label)\n",
    "val_label = val_label.reshape((len(val_label),1))"
   ]
  },
  {
   "cell_type": "markdown",
   "metadata": {},
   "source": [
    "## Define Sigmoid function"
   ]
  },
  {
   "cell_type": "code",
   "execution_count": 73,
   "metadata": {},
   "outputs": [],
   "source": [
    "def sigmoid(x):\n",
    "    sig = 1/(1+np.exp(-x))\n",
    "    return sig"
   ]
  },
  {
   "cell_type": "markdown",
   "metadata": {},
   "source": [
    "## Define Loss function"
   ]
  },
  {
   "cell_type": "code",
   "execution_count": 23,
   "metadata": {},
   "outputs": [],
   "source": [
    "def lossFunc(w, X, Y):\n",
    "    m = len(Y)\n",
    "    result = (-1/m)*np.sum(Y*np.log(sigmoid(np.dot(X.T,w))) + (1-Y)*np.log(1-sigmoid(np.dot(X.T,w))+0.0000001))\n",
    "    return result"
   ]
  },
  {
   "cell_type": "markdown",
   "metadata": {},
   "source": [
    "## Define Loss function for 3 layers"
   ]
  },
  {
   "cell_type": "code",
   "execution_count": 132,
   "metadata": {},
   "outputs": [],
   "source": [
    "def lossFunc_3(u, v, w, X, Y):\n",
    "    m = len(Y)\n",
    "    a = np.dot(X.T,u)## a = (1027, size/2+1)\n",
    "#     print(a.shape)\n",
    "#     temp = np.ones((1027,1))\n",
    "#     a = np.hstack((a,temp))\n",
    "    b = np.dot(sigmoid(a),v) ## b = (1027, size/4+1)\n",
    "#     b = np.hstack((b,temp))\n",
    "    c = np.dot(sigmoid(b),w) ## c= (1027,1)\n",
    "\n",
    "    result = (-1/m)*np.sum(Y*np.log(c+0.0000001) + (1-Y)*np.log(1-c+0.0000001))\n",
    "    return result"
   ]
  },
  {
   "cell_type": "markdown",
   "metadata": {},
   "source": [
    "## Define Accuracy function"
   ]
  },
  {
   "cell_type": "code",
   "execution_count": 25,
   "metadata": {},
   "outputs": [],
   "source": [
    "def accuracy(X,w):\n",
    "    return sigmoid(np.dot(X.T,w)) >= 0.5"
   ]
  },
  {
   "cell_type": "markdown",
   "metadata": {},
   "source": [
    "## Define Accuracy function for 3 layers"
   ]
  },
  {
   "cell_type": "code",
   "execution_count": 177,
   "metadata": {},
   "outputs": [],
   "source": [
    "def accuracy_3(X,u,v,w):\n",
    "    a = np.dot(X.T,u)## a = (1027, size/2+1)\n",
    "#     temp = np.ones((1027,1))\n",
    "#     a = np.hstack((a,temp))\n",
    "    b = np.dot(sigmoid(a),v) ## b = (1027, size/4+1)\n",
    "#     b = np.hstack((b,temp))\n",
    "    c = np.dot(sigmoid(b),w) ## c= (1027,1)\n",
    "    result = sigmoid(c) >= 0.5\n",
    "#     print(result)\n",
    "#     print(b)\n",
    "    return sigmoid(c) >= 0.5"
   ]
  },
  {
   "cell_type": "code",
   "execution_count": 27,
   "metadata": {},
   "outputs": [],
   "source": [
    "import time"
   ]
  },
  {
   "cell_type": "markdown",
   "metadata": {},
   "source": [
    "## Define GradientDescent function through Vectorizing"
   ]
  },
  {
   "cell_type": "markdown",
   "metadata": {},
   "source": [
    "### Update GradientDescent function by adding 3 layers"
   ]
  },
  {
   "cell_type": "code",
   "execution_count": 197,
   "metadata": {},
   "outputs": [],
   "source": [
    "loss_list_train = []\n",
    "loss_list_val = []\n",
    "accuracy_list_train = []\n",
    "accuracy_list_val = []\n",
    "time_list = []\n",
    "#u = (10001, len(train_label)/2)\n",
    "#v = (len(train_label)/2, len(train_label)/4)\n",
    "#w = (len(train_label)/4, 1)\n",
    "#result = (1,1027)\n",
    "\n",
    "# w = np.zeros((10001,1))\n",
    "dim1 = int(int(len(train_label)/2))\n",
    "dim2 = int(int(len(train_label)/4))\n",
    "\n",
    "np.random.seed(0)\n",
    "# u = np.random.normal(size=(10001, dim1))\n",
    "# v = np.random.normal(size=(dim1, dim2))\n",
    "# w = np.random.normal(size=(dim2, 1))\n",
    "u = np.zeros((10001, dim1+1))\n",
    "for i in range(10001):\n",
    "    u[i][dim1] =1\n",
    "v = np.zeros((dim1+1, dim2+1))\n",
    "for i in range(dim1+1):\n",
    "    v[i][dim2] =1\n",
    "w = np.zeros((dim2+1, 1))\n",
    "w[dim2][0] =1\n",
    "\n",
    "def gradientDescent(X, Y, u, v, w, l_rate):\n",
    "    m = len(Y)\n",
    "    iterations = 0\n",
    "    old_train = lossFunc_3(u,v,w, train_data, train_label)\n",
    "    print(\"lossFirst: \",old_train)\n",
    "    old_val = lossFunc_3(u,v,w, val_data, val_label)\n",
    "    accuracy_train = (accuracy_3(train_data,u,v,w) == train_label).sum() / len(train_label)\n",
    "#     print(accuracy_train)\n",
    "    accuracy_val = (accuracy_3(val_data,u,v,w) == val_label).sum() / len(val_label)\n",
    "    while(True):\n",
    "        iterations+=1\n",
    "        loss_list_train.append(old_train)\n",
    "        loss_list_val.append(old_val)\n",
    "        accuracy_list_train.append(accuracy_train)\n",
    "        accuracy_list_val.append(accuracy_val)\n",
    "        tic = time.time()\n",
    "        \n",
    "        a = np.dot(X.T,u)## a = (1027, size/2+1)\n",
    "#         temp = np.ones((1027,1))\n",
    "#         a = np.hstack((a,temp))        \n",
    "        b = np.dot(sigmoid(a),v) ## b = (1027, size/4+1)\n",
    "#         print(b)\n",
    "#         b = np.hstack((b,temp))        \n",
    "        c = np.dot(sigmoid(b),w) ## c= (1027,1)\n",
    "        # a: np.dot(sigmoid(c) - Y, c.T) ## (1027, 1027)\n",
    "        # a: np.dot(1-sigmoid(b),b.T) ##(1027,1027)\n",
    "        # a: np.dot(np.dot(sigmoid(c) - Y, c.T),np.dot(1-sigmoid(b),b.T)) ##(1027.1027)\n",
    "        # a: np.dot(np.dot(np.dot(sigmoid(c) - Y, c.T),np.dot(1-sigmoid(b),b.T)), 1-sigmoid(a)) ## (1027, 500)\n",
    "        \n",
    "       # a: np.dot(np.dot(sigmoid(c) - Y, c.T), np.dot(1-sigmoid(b),b.T))\n",
    "        \n",
    "       # a: np.dot(p.dot(np.dot(sigmoid(c) - Y, c.T), np.dot(1-sigmoid(b),b.T)), 1-sigmoid(a)) ##(1027, 500)\n",
    "       # a: np.dot(np.dot(p.dot(np.dot(sigmoid(c) - Y, c.T), np.dot(1-sigmoid(b),b.T)), 1-sigmoid(a)).T, X.T).T\n",
    "        \n",
    "       #b: np.dot(sigmoid(c)-Y, C.T) ##(1027,1027)\n",
    "        #b: np.dot(np.dot(sigmoid(c)-Y, C.T), 1-sigmoid(b)) ## (1027, 250)\n",
    "        #b: np.dot(np.dot(np.dot(sigmoid(c)-Y, C.T), 1-sigmoid(b)).T, sigmoid(a))\n",
    "        \n",
    "        \n",
    "#         print(u.shape)\n",
    "        u = u - (l_rate/m)*np.dot(np.dot(np.dot(np.dot(sigmoid(c) - Y, c.T), np.dot(1-sigmoid(b),b.T)), 1-sigmoid(a)).T, X.T).T #(10001, 500)\n",
    "#         print(u)\n",
    "        v = v - (l_rate/m)*np.dot(np.dot(np.dot(sigmoid(c)-Y, c.T), 1-sigmoid(b)).T, sigmoid(a)).T #(500,250)\n",
    "        #print(v)\n",
    "        w = w - (l_rate/m)*np.dot((sigmoid(c)-Y).T, sigmoid(b)).T\n",
    "#         print(w)\n",
    "        \n",
    "        toc = time.time()\n",
    "        time_list.append((toc-tic)*1000)\n",
    "        current_train = lossFunc_3(u,v,w, train_data, train_label)\n",
    "#         print(\"#\",iterations,\"   loss: \",current_train)\n",
    "        old_val = lossFunc_3(u,v,w, val_data, val_label)\n",
    "        accuracy_train = (accuracy_3(train_data,u,v,w) == train_label).sum() / len(train_label)\n",
    "#         print(accuracy_train)\n",
    "        accuracy_val = (accuracy_3(val_data,u,v,w) == val_label).sum() / len(val_label)\n",
    "        if abs(old_train-current_train)< 1e-4:\n",
    "            break\n",
    "        else:\n",
    "            old_train = current_train"
   ]
  },
  {
   "cell_type": "markdown",
   "metadata": {},
   "source": [
    "## Run GradientDescent"
   ]
  },
  {
   "cell_type": "code",
   "execution_count": 198,
   "metadata": {
    "scrolled": false
   },
   "outputs": [
    {
     "name": "stdout",
     "output_type": "stream",
     "text": [
      "lossFirst:  7.847174072813204\n"
     ]
    }
   ],
   "source": [
    "gradientDescent(train_data, train_label, u, v, w, 0.01)"
   ]
  },
  {
   "cell_type": "markdown",
   "metadata": {},
   "source": [
    "## Plotting Loss graph"
   ]
  },
  {
   "cell_type": "code",
   "execution_count": 199,
   "metadata": {
    "scrolled": true
   },
   "outputs": [
    {
     "data": {
      "image/png": "[encoded data removed]",
      "text/plain": [
       "<Figure size 432x288 with 1 Axes>"
      ]
     },
     "metadata": {
      "needs_background": "light"
     },
     "output_type": "display_data"
    }
   ],
   "source": [
    "plt.plot(loss_list_train,label='training',color= 'r')\n",
    "plt.plot(loss_list_val,label='validation',color = 'b')\n",
    "plt.legend()\n",
    "plt.show()"
   ]
  },
  {
   "cell_type": "markdown",
   "metadata": {},
   "source": [
    "## Plotting Accuracy graph"
   ]
  },
  {
   "cell_type": "code",
   "execution_count": 200,
   "metadata": {
    "scrolled": true
   },
   "outputs": [
    {
     "data": {
      "image/png": "[encoded data removed]",
      "text/plain": [
       "<Figure size 432x288 with 1 Axes>"
      ]
     },
     "metadata": {
      "needs_background": "light"
     },
     "output_type": "display_data"
    }
   ],
   "source": [
    "plt.plot(accuracy_list_train,label='training', color='r')\n",
    "plt.plot(accuracy_list_val,label='validation',color='b')\n",
    "plt.legend()\n",
    "plt.show()"
   ]
  },
  {
   "cell_type": "markdown",
   "metadata": {},
   "source": [
    "## Plot table"
   ]
  },
  {
   "cell_type": "code",
   "execution_count": 201,
   "metadata": {},
   "outputs": [],
   "source": [
    "from pandas import Series, DataFrame\n",
    "import pandas as pd"
   ]
  },
  {
   "cell_type": "code",
   "execution_count": 202,
   "metadata": {
    "scrolled": false
   },
   "outputs": [
    {
     "data": {
      "text/html": [
       "<div>\n",
       "<style scoped>\n",
       "    .dataframe tbody tr th:only-of-type {\n",
       "        vertical-align: middle;\n",
       "    }\n",
       "\n",
       "    .dataframe tbody tr th {\n",
       "        vertical-align: top;\n",
       "    }\n",
       "\n",
       "    .dataframe thead th {\n",
       "        text-align: right;\n",
       "    }\n",
       "</style>\n",
       "<table border=\"1\" class=\"dataframe\">\n",
       "  <thead>\n",
       "    <tr style=\"text-align: right;\">\n",
       "      <th></th>\n",
       "      <th>Loss</th>\n",
       "      <th>Accruacy</th>\n",
       "    </tr>\n",
       "  </thead>\n",
       "  <tbody>\n",
       "    <tr>\n",
       "      <td>Training</td>\n",
       "      <td>0.693687</td>\n",
       "      <td>0.513145</td>\n",
       "    </tr>\n",
       "    <tr>\n",
       "      <td>Validation</td>\n",
       "      <td>0.695486</td>\n",
       "      <td>0.500000</td>\n",
       "    </tr>\n",
       "  </tbody>\n",
       "</table>\n",
       "</div>"
      ],
      "text/plain": [
       "                Loss  Accruacy\n",
       "Training    0.693687  0.513145\n",
       "Validation  0.695486  0.500000"
      ]
     },
     "execution_count": 202,
     "metadata": {},
     "output_type": "execute_result"
    }
   ],
   "source": [
    "data = [[loss_list_train[-1], accuracy_list_train[-1]],\n",
    "        [loss_list_val[-1], accuracy_list_val[-1]]]\n",
    "frame = pd.DataFrame(data, columns = ['Loss','Accruacy'],\n",
    "                        index = ['Training','Validation'])\n",
    "frame"
   ]
  },
  {
   "cell_type": "markdown",
   "metadata": {},
   "source": [
    "## Plotting time graph by milisecond"
   ]
  },
  {
   "cell_type": "code",
   "execution_count": 203,
   "metadata": {},
   "outputs": [
    {
     "data": {
      "text/plain": [
       "[<matplotlib.lines.Line2D at 0x1ee8053f240>]"
      ]
     },
     "execution_count": 203,
     "metadata": {},
     "output_type": "execute_result"
    },
    {
     "data": {
      "image/png": "[encoded data removed]",
      "text/plain": [
       "<Figure size 432x288 with 1 Axes>"
      ]
     },
     "metadata": {
      "needs_background": "light"
     },
     "output_type": "display_data"
    }
   ],
   "source": [
    "plt.plot(time_list, c='black')"
   ]
  }
 ],
 "metadata": {
  "kernelspec": {
   "display_name": "PyTorch",
   "language": "python",
   "name": "torch"
  },
  "language_info": {
   "codemirror_mode": {
    "name": "ipython",
    "version": 3
   },
   "file_extension": ".py",
   "mimetype": "text/x-python",
   "name": "python",
   "nbconvert_exporter": "python",
   "pygments_lexer": "ipython3",
   "version": "3.6.9"
  }
 },
 "nbformat": 4,
 "nbformat_minor": 2
}
